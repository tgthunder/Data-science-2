{
 "cells": [
  {
   "cell_type": "markdown",
   "id": "e369f319",
   "metadata": {},
   "source": [
    "*Web Scrapping is the method to get the data from a web-site*\n",
    "*There are so many amazing libraries are there in python using which we are able to do web scrapping*"
   ]
  },
  {
   "cell_type": "code",
   "execution_count": 2,
   "id": "6c8db1a6",
   "metadata": {},
   "outputs": [],
   "source": [
    "# In this note-book we are going to visit a web-site contains information about different different \n",
    "# Companies and then we will exract that info."
   ]
  },
  {
   "cell_type": "code",
   "execution_count": 3,
   "id": "d36b708c",
   "metadata": {},
   "outputs": [],
   "source": [
    "import pandas as pd\n",
    "import requests\n",
    "from bs4 import BeautifulSoup"
   ]
  },
  {
   "cell_type": "code",
   "execution_count": 6,
   "id": "3a435b2c",
   "metadata": {},
   "outputs": [
    {
     "data": {
      "text/plain": [
       "'<HTML><HEAD>\\n<TITLE>Access Denied</TITLE>\\n</HEAD><BODY>\\n<H1>Access Denied</H1>\\n \\nYou don\\'t have permission to access \"http&#58;&#47;&#47;www&#46;ambitionbox&#46;com&#47;list&#45;of&#45;companies&#63;\" on this server.<P>\\nReference&#32;&#35;18&#46;defed417&#46;1680705766&#46;1c56d753\\n</BODY>\\n</HTML>\\n'"
      ]
     },
     "execution_count": 6,
     "metadata": {},
     "output_type": "execute_result"
    }
   ],
   "source": [
    "requests.get(\"https://www.ambitionbox.com/list-of-companies?page=1\").text"
   ]
  },
  {
   "cell_type": "markdown",
   "id": "57dd5f91",
   "metadata": {},
   "source": [
    "**Above Error tells that you are not allowed to access their website-content. there is something in  web development which protects data from web scrappers and google.\n",
    "The thing we can do is we will pass a header which will tell that website that we are accessing their website from  a browser and we are not a bot**"
   ]
  },
  {
   "cell_type": "code",
   "execution_count": 10,
   "id": "19a08323",
   "metadata": {},
   "outputs": [],
   "source": [
    "headers={'User-Agent':'Mozilla/5.0 (Windows NT 6.3; Win 64 ; x64) Apple WeKit /537.36(KHTML , like Gecko) Chrome/80.0.3987.162 Safari/537.36'}\n",
    "url = requests.get(\"https://www.ambitionbox.com/list-of-companies?page=1\",headers=headers).text\n",
    "\n",
    "# The get method will give the html code for your website"
   ]
  },
  {
   "cell_type": "code",
   "execution_count": 11,
   "id": "c82bc056",
   "metadata": {},
   "outputs": [],
   "source": [
    "soup = BeautifulSoup(url,\"lxml\")\n",
    "# \"lxml\" is actually a html parser which will allow you to traverse through web-page"
   ]
  },
  {
   "cell_type": "code",
   "execution_count": 14,
   "id": "b2deb2e4",
   "metadata": {},
   "outputs": [
    {
     "name": "stdout",
     "output_type": "stream",
     "text": [
      "<!DOCTYPE html>\n",
      "<html>\n",
      " <head>\n",
      "  <meta charset=\"utf-8\"/>\n",
      "  <meta content=\"width=device-width, initial-scale=1, shrink-to-fit=no\" name=\"viewport\"/>\n",
      "  <meta content=\"5; URL='/list-of-companies?page=1&amp;bm-verify=AAQAAAAH_____984x_LW85lt0KQNsNMfF80m3AQPZUVNmkmKiTvxakQGhI7veNcHUZ7sCPzBQUDoYSk8-T7tFu_F7W4xaikT7SYrsoWI-Aia2eupMI8ENRIny924B5hPD2JJoIc51cwWm4CAdQFHIgdLa5YiCxTtj4MMP6kv9W-9bLmGjsqXwGpqwALAV9_jU3mcQua3xX9Mgz2HJ5Dnxys9Jl0tKgJM0-NtkRMkK9IJJWk42eJFIFQh_Qr8vSyp3O4-IWwaE3xnn2ayGoPBSpR4VZZG4YhIZSbONMFxRg'\" http-equiv=\"refresh\"/>\n",
      "  <title>\n",
      "  </title>\n",
      "  <script>\n",
      "   var i = 1680706127;\n",
      "        var j = i + Number(\"9184\" + \"92874\");\n",
      "  </script>\n",
      " </head>\n",
      " <body>\n",
      "  <noscript>\n",
      "   <iframe src=\"\" style=\"border: none; height: 100%; width: 100%;\">\n",
      "   </iframe>\n",
      "  </noscript>\n",
      "  <script>\n",
      "   var xhr = new XMLHttpRequest();\n",
      "          xhr.withCredentials = true;\n",
      "          xhr.addEventListener(\"loadend\", function() {\n",
      "              try {\n",
      "                  var data = JSON.parse(xhr.responseText);\n",
      "                  if (data.hasOwnProperty('reload')) {\n",
      "                      if (data[\"reload\"] == true) {\n",
      "                        window.location.replace(window.location.href.replace(/[&?]bm-verify=[^#]*/, \"\"));\n",
      "                        if(window.location.hash){\n",
      "                          window.location.reload();\n",
      "                        }\n",
      "                      }\n",
      "                  } else if (data.hasOwnProperty('location')) {\n",
      "                      window.location.replace(data[\"location\"]);\n",
      "\n",
      "                  } else {\n",
      "                      window.location.reload();\n",
      "                  }\n",
      "              } catch (e) {\n",
      "                  var data = {}\n",
      "                  window.location.reload();\n",
      "              }\n",
      "          });\n",
      "          xhr.open(\"POST\", \"/_sec/verify?provider=interstitial\", false);\n",
      "          xhr.setRequestHeader(\"Content-Type\", \"application/json\");\n",
      "          xhr.send(JSON.stringify({\n",
      "              \"bm-verify\": \"AAQAAAAH/////xDzFwLp6jd45ZzhVM41bWgEb0+zvAf2RXjONq8gyiJ4b9eqhDpLTYwwZ8D7YKrJCwXrKbKZ7ts4bnAg4WZRulaWn8ceZkggyBLVq4Ri50NP65ppkSKez8YsHGpwePynYFKRG1cZvUbr2NkoxrogxYSXC+8lOADdqhFyD1LRERzm/eferuXqxr3yAHPdBRsSL+erH8C92d04TW46k+dkTl3wbujw/aoyiH9JgfNLQRTV36UPVZ5zvFacA0Aahnl+Sal1RFgix0yUfBR2pE3GArbT4Z21pQtwc1W6d2xluOe4ce+Tt0c=\",\n",
      "              \"pow\": j\n",
      "          }));\n",
      "  </script>\n",
      " </body>\n",
      "</html>\n",
      "\n"
     ]
    }
   ],
   "source": [
    "print(soup.prettify())\n",
    "# This method will give the well representation of your web-page\n",
    "# You are able to see actual contents"
   ]
  },
  {
   "cell_type": "code",
   "execution_count": 15,
   "id": "8f376f53",
   "metadata": {},
   "outputs": [],
   "source": [
    "# Now lets retrive h1 tag from website"
   ]
  },
  {
   "cell_type": "code",
   "execution_count": 22,
   "id": "0d1c297f",
   "metadata": {},
   "outputs": [
    {
     "data": {
      "text/plain": [
       "[]"
      ]
     },
     "execution_count": 22,
     "metadata": {},
     "output_type": "execute_result"
    }
   ],
   "source": [
    "soup.find_all(\"h1\")"
   ]
  },
  {
   "cell_type": "code",
   "execution_count": null,
   "id": "767f275e",
   "metadata": {},
   "outputs": [],
   "source": []
  }
 ],
 "metadata": {
  "kernelspec": {
   "display_name": "Python 3 (ipykernel)",
   "language": "python",
   "name": "python3"
  },
  "language_info": {
   "codemirror_mode": {
    "name": "ipython",
    "version": 3
   },
   "file_extension": ".py",
   "mimetype": "text/x-python",
   "name": "python",
   "nbconvert_exporter": "python",
   "pygments_lexer": "ipython3",
   "version": "3.9.13"
  }
 },
 "nbformat": 4,
 "nbformat_minor": 5
}
