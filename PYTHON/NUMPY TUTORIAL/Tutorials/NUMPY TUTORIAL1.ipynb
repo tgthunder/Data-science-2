{
 "cells": [
  {
   "cell_type": "markdown",
   "id": "0851075f",
   "metadata": {},
   "source": [
    "# WELCOME TO NUMPY TUTORIAL @codewithharry"
   ]
  },
  {
   "cell_type": "code",
   "execution_count": 1,
   "id": "2d358820",
   "metadata": {},
   "outputs": [],
   "source": [
    "import numpy as np"
   ]
  },
  {
   "cell_type": "markdown",
   "id": "574ff12f",
   "metadata": {},
   "source": [
    "***Writing our first nparray***"
   ]
  },
  {
   "cell_type": "code",
   "execution_count": 2,
   "id": "84629ff5",
   "metadata": {},
   "outputs": [],
   "source": [
    "myarr = np.array([1,2,5,6,34,56])\n"
   ]
  },
  {
   "cell_type": "code",
   "execution_count": 3,
   "id": "180568f9",
   "metadata": {},
   "outputs": [
    {
     "data": {
      "text/plain": [
       "array([ 1,  2,  5,  6, 34, 56])"
      ]
     },
     "execution_count": 3,
     "metadata": {},
     "output_type": "execute_result"
    }
   ],
   "source": [
    "myarr"
   ]
  },
  {
   "cell_type": "markdown",
   "id": "3de51969",
   "metadata": {},
   "source": [
    "**dtype**"
   ]
  },
  {
   "cell_type": "code",
   "execution_count": 9,
   "id": "63b3a2f0",
   "metadata": {},
   "outputs": [],
   "source": [
    "arr1 = np.array([12,34,65,55],dtype =np.int8)"
   ]
  },
  {
   "cell_type": "code",
   "execution_count": 10,
   "id": "ecf22bca",
   "metadata": {},
   "outputs": [
    {
     "data": {
      "text/plain": [
       "array([12, 34, 65, 55], dtype=int8)"
      ]
     },
     "execution_count": 10,
     "metadata": {},
     "output_type": "execute_result"
    }
   ],
   "source": [
    "arr1"
   ]
  },
  {
   "cell_type": "code",
   "execution_count": 2,
   "id": "a94fbb1e",
   "metadata": {},
   "outputs": [
    {
     "data": {
      "text/plain": [
       "128"
      ]
     },
     "execution_count": 2,
     "metadata": {},
     "output_type": "execute_result"
    }
   ],
   "source": [
    "2**7"
   ]
  },
  {
   "cell_type": "code",
   "execution_count": null,
   "id": "359bb112",
   "metadata": {},
   "outputs": [],
   "source": []
  }
 ],
 "metadata": {
  "kernelspec": {
   "display_name": "Python 3 (ipykernel)",
   "language": "python",
   "name": "python3"
  },
  "language_info": {
   "codemirror_mode": {
    "name": "ipython",
    "version": 3
   },
   "file_extension": ".py",
   "mimetype": "text/x-python",
   "name": "python",
   "nbconvert_exporter": "python",
   "pygments_lexer": "ipython3",
   "version": "3.9.13"
  }
 },
 "nbformat": 4,
 "nbformat_minor": 5
}
