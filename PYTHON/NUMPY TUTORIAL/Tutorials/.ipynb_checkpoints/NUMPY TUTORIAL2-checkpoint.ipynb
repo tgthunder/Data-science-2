{
 "cells": [
  {
   "cell_type": "code",
   "execution_count": 1,
   "id": "6a00849c",
   "metadata": {},
   "outputs": [],
   "source": [
    "import numpy as np"
   ]
  },
  {
   "cell_type": "code",
   "execution_count": 2,
   "id": "86ffd463",
   "metadata": {},
   "outputs": [],
   "source": [
    "myarray=np.array([1,34,78,65,18],dtype=np.int64)"
   ]
  },
  {
   "cell_type": "code",
   "execution_count": 3,
   "id": "fc45c9a1",
   "metadata": {},
   "outputs": [
    {
     "data": {
      "text/plain": [
       "1"
      ]
     },
     "execution_count": 3,
     "metadata": {},
     "output_type": "execute_result"
    }
   ],
   "source": [
    "myarray[0]"
   ]
  },
  {
   "cell_type": "code",
   "execution_count": 4,
   "id": "2d68e34e",
   "metadata": {},
   "outputs": [
    {
     "data": {
      "text/plain": [
       "(5,)"
      ]
     },
     "execution_count": 4,
     "metadata": {},
     "output_type": "execute_result"
    }
   ],
   "source": [
    "myarray.shape"
   ]
  },
  {
   "cell_type": "code",
   "execution_count": 5,
   "id": "1acda5fd",
   "metadata": {},
   "outputs": [],
   "source": [
    "myarray1 = np.array([[1,2,4,5,6]],dtype=np.int32)"
   ]
  },
  {
   "cell_type": "code",
   "execution_count": 6,
   "id": "17cabee9",
   "metadata": {},
   "outputs": [
    {
     "data": {
      "text/plain": [
       "(1, 5)"
      ]
     },
     "execution_count": 6,
     "metadata": {},
     "output_type": "execute_result"
    }
   ],
   "source": [
    "myarray1.shape\n"
   ]
  },
  {
   "cell_type": "code",
   "execution_count": 7,
   "id": "cf6a303b",
   "metadata": {},
   "outputs": [
    {
     "data": {
      "text/plain": [
       "5"
      ]
     },
     "execution_count": 7,
     "metadata": {},
     "output_type": "execute_result"
    }
   ],
   "source": [
    "myarray1[0,3]"
   ]
  },
  {
   "cell_type": "code",
   "execution_count": 8,
   "id": "72d34dc3",
   "metadata": {},
   "outputs": [
    {
     "data": {
      "text/plain": [
       "dtype('int32')"
      ]
     },
     "execution_count": 8,
     "metadata": {},
     "output_type": "execute_result"
    }
   ],
   "source": [
    "myarray1.dtype"
   ]
  },
  {
   "cell_type": "code",
   "execution_count": 9,
   "id": "871a4ddb",
   "metadata": {},
   "outputs": [],
   "source": [
    "myarray2=np.array([12,5,6,3])"
   ]
  },
  {
   "cell_type": "code",
   "execution_count": 10,
   "id": "23a83215",
   "metadata": {},
   "outputs": [],
   "source": [
    "myarray2=np.dtype('i4')"
   ]
  },
  {
   "cell_type": "code",
   "execution_count": 11,
   "id": "6fb515fa",
   "metadata": {},
   "outputs": [
    {
     "data": {
      "text/plain": [
       "4"
      ]
     },
     "execution_count": 11,
     "metadata": {},
     "output_type": "execute_result"
    }
   ],
   "source": [
    "myarray2.itemsize"
   ]
  },
  {
   "cell_type": "code",
   "execution_count": 12,
   "id": "8877a989",
   "metadata": {},
   "outputs": [
    {
     "data": {
      "text/plain": [
       "'int32'"
      ]
     },
     "execution_count": 12,
     "metadata": {},
     "output_type": "execute_result"
    }
   ],
   "source": [
    "myarray2.name"
   ]
  },
  {
   "cell_type": "code",
   "execution_count": 13,
   "id": "b18c94cf",
   "metadata": {},
   "outputs": [
    {
     "data": {
      "text/plain": [
       "True"
      ]
     },
     "execution_count": 13,
     "metadata": {},
     "output_type": "execute_result"
    }
   ],
   "source": [
    "myarray2.type is np.int32\n"
   ]
  },
  {
   "cell_type": "code",
   "execution_count": 14,
   "id": "023b44fa",
   "metadata": {},
   "outputs": [],
   "source": [
    "myarray1[0,2]=99"
   ]
  },
  {
   "cell_type": "code",
   "execution_count": 15,
   "id": "47e3f2bb",
   "metadata": {},
   "outputs": [
    {
     "data": {
      "text/plain": [
       "array([[ 1,  2, 99,  5,  6]])"
      ]
     },
     "execution_count": 15,
     "metadata": {},
     "output_type": "execute_result"
    }
   ],
   "source": [
    "myarray1"
   ]
  },
  {
   "cell_type": "code",
   "execution_count": null,
   "id": "93ed3f64",
   "metadata": {},
   "outputs": [],
   "source": []
  }
 ],
 "metadata": {
  "kernelspec": {
   "display_name": "Python 3 (ipykernel)",
   "language": "python",
   "name": "python3"
  },
  "language_info": {
   "codemirror_mode": {
    "name": "ipython",
    "version": 3
   },
   "file_extension": ".py",
   "mimetype": "text/x-python",
   "name": "python",
   "nbconvert_exporter": "python",
   "pygments_lexer": "ipython3",
   "version": "3.9.12"
  }
 },
 "nbformat": 4,
 "nbformat_minor": 5
}
