{
 "cells": [
  {
   "cell_type": "code",
   "execution_count": 3,
   "id": "acce373b",
   "metadata": {},
   "outputs": [],
   "source": [
    "import numpy as np\n",
    "import pandas as pd\n"
   ]
  },
  {
   "cell_type": "code",
   "execution_count": 5,
   "id": "04ce65de",
   "metadata": {},
   "outputs": [],
   "source": [
    "ser = pd.Series(np.random.rand(20))"
   ]
  },
  {
   "cell_type": "code",
   "execution_count": 6,
   "id": "e3f1c431",
   "metadata": {},
   "outputs": [
    {
     "data": {
      "text/plain": [
       "0     0.240355\n",
       "1     0.302063\n",
       "2     0.323926\n",
       "3     0.647051\n",
       "4     0.449093\n",
       "5     0.869580\n",
       "6     0.740258\n",
       "7     0.829562\n",
       "8     0.627600\n",
       "9     0.558226\n",
       "10    0.217859\n",
       "11    0.720600\n",
       "12    0.574391\n",
       "13    0.924654\n",
       "14    0.538678\n",
       "15    0.375512\n",
       "16    0.129138\n",
       "17    0.707081\n",
       "18    0.243634\n",
       "19    0.295182\n",
       "dtype: float64"
      ]
     },
     "execution_count": 6,
     "metadata": {},
     "output_type": "execute_result"
    }
   ],
   "source": [
    "ser"
   ]
  },
  {
   "cell_type": "code",
   "execution_count": 7,
   "id": "d25a0f37",
   "metadata": {},
   "outputs": [
    {
     "data": {
      "text/plain": [
       "pandas.core.series.Series"
      ]
     },
     "execution_count": 7,
     "metadata": {},
     "output_type": "execute_result"
    }
   ],
   "source": [
    "type(ser)"
   ]
  },
  {
   "cell_type": "code",
   "execution_count": 8,
   "id": "bfd1cc12",
   "metadata": {},
   "outputs": [],
   "source": [
    "Df = pd.DataFrame(np.random.rand(250,5),index=np.arange(250))"
   ]
  },
  {
   "cell_type": "code",
   "execution_count": 9,
   "id": "07856010",
   "metadata": {},
   "outputs": [
    {
     "data": {
      "text/html": [
       "<div>\n",
       "<style scoped>\n",
       "    .dataframe tbody tr th:only-of-type {\n",
       "        vertical-align: middle;\n",
       "    }\n",
       "\n",
       "    .dataframe tbody tr th {\n",
       "        vertical-align: top;\n",
       "    }\n",
       "\n",
       "    .dataframe thead th {\n",
       "        text-align: right;\n",
       "    }\n",
       "</style>\n",
       "<table border=\"1\" class=\"dataframe\">\n",
       "  <thead>\n",
       "    <tr style=\"text-align: right;\">\n",
       "      <th></th>\n",
       "      <th>0</th>\n",
       "      <th>1</th>\n",
       "      <th>2</th>\n",
       "      <th>3</th>\n",
       "      <th>4</th>\n",
       "    </tr>\n",
       "  </thead>\n",
       "  <tbody>\n",
       "    <tr>\n",
       "      <th>0</th>\n",
       "      <td>0.097678</td>\n",
       "      <td>0.576776</td>\n",
       "      <td>0.940982</td>\n",
       "      <td>0.112273</td>\n",
       "      <td>0.393187</td>\n",
       "    </tr>\n",
       "    <tr>\n",
       "      <th>1</th>\n",
       "      <td>0.171949</td>\n",
       "      <td>0.765761</td>\n",
       "      <td>0.716249</td>\n",
       "      <td>0.214942</td>\n",
       "      <td>0.442491</td>\n",
       "    </tr>\n",
       "    <tr>\n",
       "      <th>2</th>\n",
       "      <td>0.019614</td>\n",
       "      <td>0.856534</td>\n",
       "      <td>0.762463</td>\n",
       "      <td>0.675108</td>\n",
       "      <td>0.171056</td>\n",
       "    </tr>\n",
       "    <tr>\n",
       "      <th>3</th>\n",
       "      <td>0.368075</td>\n",
       "      <td>0.602402</td>\n",
       "      <td>0.926846</td>\n",
       "      <td>0.324364</td>\n",
       "      <td>0.078025</td>\n",
       "    </tr>\n",
       "    <tr>\n",
       "      <th>4</th>\n",
       "      <td>0.644375</td>\n",
       "      <td>0.014702</td>\n",
       "      <td>0.026456</td>\n",
       "      <td>0.129651</td>\n",
       "      <td>0.508554</td>\n",
       "    </tr>\n",
       "    <tr>\n",
       "      <th>...</th>\n",
       "      <td>...</td>\n",
       "      <td>...</td>\n",
       "      <td>...</td>\n",
       "      <td>...</td>\n",
       "      <td>...</td>\n",
       "    </tr>\n",
       "    <tr>\n",
       "      <th>245</th>\n",
       "      <td>0.640448</td>\n",
       "      <td>0.755565</td>\n",
       "      <td>0.397507</td>\n",
       "      <td>0.087767</td>\n",
       "      <td>0.484827</td>\n",
       "    </tr>\n",
       "    <tr>\n",
       "      <th>246</th>\n",
       "      <td>0.114006</td>\n",
       "      <td>0.085296</td>\n",
       "      <td>0.952419</td>\n",
       "      <td>0.993037</td>\n",
       "      <td>0.051184</td>\n",
       "    </tr>\n",
       "    <tr>\n",
       "      <th>247</th>\n",
       "      <td>0.607418</td>\n",
       "      <td>0.384773</td>\n",
       "      <td>0.694866</td>\n",
       "      <td>0.477675</td>\n",
       "      <td>0.188311</td>\n",
       "    </tr>\n",
       "    <tr>\n",
       "      <th>248</th>\n",
       "      <td>0.986158</td>\n",
       "      <td>0.966834</td>\n",
       "      <td>0.270727</td>\n",
       "      <td>0.279865</td>\n",
       "      <td>0.582756</td>\n",
       "    </tr>\n",
       "    <tr>\n",
       "      <th>249</th>\n",
       "      <td>0.603232</td>\n",
       "      <td>0.333036</td>\n",
       "      <td>0.675969</td>\n",
       "      <td>0.887525</td>\n",
       "      <td>0.114518</td>\n",
       "    </tr>\n",
       "  </tbody>\n",
       "</table>\n",
       "<p>250 rows × 5 columns</p>\n",
       "</div>"
      ],
      "text/plain": [
       "            0         1         2         3         4\n",
       "0    0.097678  0.576776  0.940982  0.112273  0.393187\n",
       "1    0.171949  0.765761  0.716249  0.214942  0.442491\n",
       "2    0.019614  0.856534  0.762463  0.675108  0.171056\n",
       "3    0.368075  0.602402  0.926846  0.324364  0.078025\n",
       "4    0.644375  0.014702  0.026456  0.129651  0.508554\n",
       "..        ...       ...       ...       ...       ...\n",
       "245  0.640448  0.755565  0.397507  0.087767  0.484827\n",
       "246  0.114006  0.085296  0.952419  0.993037  0.051184\n",
       "247  0.607418  0.384773  0.694866  0.477675  0.188311\n",
       "248  0.986158  0.966834  0.270727  0.279865  0.582756\n",
       "249  0.603232  0.333036  0.675969  0.887525  0.114518\n",
       "\n",
       "[250 rows x 5 columns]"
      ]
     },
     "execution_count": 9,
     "metadata": {},
     "output_type": "execute_result"
    }
   ],
   "source": [
    "Df"
   ]
  },
  {
   "cell_type": "code",
   "execution_count": 10,
   "id": "0ef6bbe6",
   "metadata": {},
   "outputs": [
    {
     "data": {
      "text/html": [
       "<div>\n",
       "<style scoped>\n",
       "    .dataframe tbody tr th:only-of-type {\n",
       "        vertical-align: middle;\n",
       "    }\n",
       "\n",
       "    .dataframe tbody tr th {\n",
       "        vertical-align: top;\n",
       "    }\n",
       "\n",
       "    .dataframe thead th {\n",
       "        text-align: right;\n",
       "    }\n",
       "</style>\n",
       "<table border=\"1\" class=\"dataframe\">\n",
       "  <thead>\n",
       "    <tr style=\"text-align: right;\">\n",
       "      <th></th>\n",
       "      <th>0</th>\n",
       "      <th>1</th>\n",
       "      <th>2</th>\n",
       "      <th>3</th>\n",
       "      <th>4</th>\n",
       "    </tr>\n",
       "  </thead>\n",
       "  <tbody>\n",
       "    <tr>\n",
       "      <th>0</th>\n",
       "      <td>0.097678</td>\n",
       "      <td>0.576776</td>\n",
       "      <td>0.940982</td>\n",
       "      <td>0.112273</td>\n",
       "      <td>0.393187</td>\n",
       "    </tr>\n",
       "    <tr>\n",
       "      <th>1</th>\n",
       "      <td>0.171949</td>\n",
       "      <td>0.765761</td>\n",
       "      <td>0.716249</td>\n",
       "      <td>0.214942</td>\n",
       "      <td>0.442491</td>\n",
       "    </tr>\n",
       "    <tr>\n",
       "      <th>2</th>\n",
       "      <td>0.019614</td>\n",
       "      <td>0.856534</td>\n",
       "      <td>0.762463</td>\n",
       "      <td>0.675108</td>\n",
       "      <td>0.171056</td>\n",
       "    </tr>\n",
       "    <tr>\n",
       "      <th>3</th>\n",
       "      <td>0.368075</td>\n",
       "      <td>0.602402</td>\n",
       "      <td>0.926846</td>\n",
       "      <td>0.324364</td>\n",
       "      <td>0.078025</td>\n",
       "    </tr>\n",
       "    <tr>\n",
       "      <th>4</th>\n",
       "      <td>0.644375</td>\n",
       "      <td>0.014702</td>\n",
       "      <td>0.026456</td>\n",
       "      <td>0.129651</td>\n",
       "      <td>0.508554</td>\n",
       "    </tr>\n",
       "  </tbody>\n",
       "</table>\n",
       "</div>"
      ],
      "text/plain": [
       "          0         1         2         3         4\n",
       "0  0.097678  0.576776  0.940982  0.112273  0.393187\n",
       "1  0.171949  0.765761  0.716249  0.214942  0.442491\n",
       "2  0.019614  0.856534  0.762463  0.675108  0.171056\n",
       "3  0.368075  0.602402  0.926846  0.324364  0.078025\n",
       "4  0.644375  0.014702  0.026456  0.129651  0.508554"
      ]
     },
     "execution_count": 10,
     "metadata": {},
     "output_type": "execute_result"
    }
   ],
   "source": [
    "Df.head()"
   ]
  },
  {
   "cell_type": "code",
   "execution_count": 11,
   "id": "c524ad75",
   "metadata": {},
   "outputs": [
    {
     "data": {
      "text/html": [
       "<div>\n",
       "<style scoped>\n",
       "    .dataframe tbody tr th:only-of-type {\n",
       "        vertical-align: middle;\n",
       "    }\n",
       "\n",
       "    .dataframe tbody tr th {\n",
       "        vertical-align: top;\n",
       "    }\n",
       "\n",
       "    .dataframe thead th {\n",
       "        text-align: right;\n",
       "    }\n",
       "</style>\n",
       "<table border=\"1\" class=\"dataframe\">\n",
       "  <thead>\n",
       "    <tr style=\"text-align: right;\">\n",
       "      <th></th>\n",
       "      <th>0</th>\n",
       "      <th>1</th>\n",
       "      <th>2</th>\n",
       "      <th>3</th>\n",
       "      <th>4</th>\n",
       "    </tr>\n",
       "  </thead>\n",
       "  <tbody>\n",
       "    <tr>\n",
       "      <th>count</th>\n",
       "      <td>250.000000</td>\n",
       "      <td>250.000000</td>\n",
       "      <td>250.000000</td>\n",
       "      <td>250.000000</td>\n",
       "      <td>250.000000</td>\n",
       "    </tr>\n",
       "    <tr>\n",
       "      <th>mean</th>\n",
       "      <td>0.492657</td>\n",
       "      <td>0.490973</td>\n",
       "      <td>0.494486</td>\n",
       "      <td>0.492504</td>\n",
       "      <td>0.471688</td>\n",
       "    </tr>\n",
       "    <tr>\n",
       "      <th>std</th>\n",
       "      <td>0.295591</td>\n",
       "      <td>0.292336</td>\n",
       "      <td>0.289881</td>\n",
       "      <td>0.279131</td>\n",
       "      <td>0.285368</td>\n",
       "    </tr>\n",
       "    <tr>\n",
       "      <th>min</th>\n",
       "      <td>0.000886</td>\n",
       "      <td>0.007711</td>\n",
       "      <td>0.001983</td>\n",
       "      <td>0.001956</td>\n",
       "      <td>0.002414</td>\n",
       "    </tr>\n",
       "    <tr>\n",
       "      <th>25%</th>\n",
       "      <td>0.230278</td>\n",
       "      <td>0.248159</td>\n",
       "      <td>0.274847</td>\n",
       "      <td>0.263064</td>\n",
       "      <td>0.232263</td>\n",
       "    </tr>\n",
       "    <tr>\n",
       "      <th>50%</th>\n",
       "      <td>0.493089</td>\n",
       "      <td>0.467763</td>\n",
       "      <td>0.483141</td>\n",
       "      <td>0.493324</td>\n",
       "      <td>0.450393</td>\n",
       "    </tr>\n",
       "    <tr>\n",
       "      <th>75%</th>\n",
       "      <td>0.731417</td>\n",
       "      <td>0.729525</td>\n",
       "      <td>0.740117</td>\n",
       "      <td>0.732600</td>\n",
       "      <td>0.723861</td>\n",
       "    </tr>\n",
       "    <tr>\n",
       "      <th>max</th>\n",
       "      <td>0.999484</td>\n",
       "      <td>0.999370</td>\n",
       "      <td>0.997394</td>\n",
       "      <td>0.993037</td>\n",
       "      <td>0.999907</td>\n",
       "    </tr>\n",
       "  </tbody>\n",
       "</table>\n",
       "</div>"
      ],
      "text/plain": [
       "                0           1           2           3           4\n",
       "count  250.000000  250.000000  250.000000  250.000000  250.000000\n",
       "mean     0.492657    0.490973    0.494486    0.492504    0.471688\n",
       "std      0.295591    0.292336    0.289881    0.279131    0.285368\n",
       "min      0.000886    0.007711    0.001983    0.001956    0.002414\n",
       "25%      0.230278    0.248159    0.274847    0.263064    0.232263\n",
       "50%      0.493089    0.467763    0.483141    0.493324    0.450393\n",
       "75%      0.731417    0.729525    0.740117    0.732600    0.723861\n",
       "max      0.999484    0.999370    0.997394    0.993037    0.999907"
      ]
     },
     "execution_count": 11,
     "metadata": {},
     "output_type": "execute_result"
    }
   ],
   "source": [
    "Df.describe()"
   ]
  },
  {
   "cell_type": "code",
   "execution_count": 12,
   "id": "1a4bf208",
   "metadata": {},
   "outputs": [
    {
     "data": {
      "text/plain": [
       "0    float64\n",
       "1    float64\n",
       "2    float64\n",
       "3    float64\n",
       "4    float64\n",
       "dtype: object"
      ]
     },
     "execution_count": 12,
     "metadata": {},
     "output_type": "execute_result"
    }
   ],
   "source": [
    "Df.dtypes"
   ]
  },
  {
   "cell_type": "code",
   "execution_count": 13,
   "id": "13a2d3d5",
   "metadata": {},
   "outputs": [],
   "source": [
    "Df[0][0] = 'Sudarshan'"
   ]
  },
  {
   "cell_type": "code",
   "execution_count": 14,
   "id": "ca4cbbce",
   "metadata": {},
   "outputs": [
    {
     "data": {
      "text/html": [
       "<div>\n",
       "<style scoped>\n",
       "    .dataframe tbody tr th:only-of-type {\n",
       "        vertical-align: middle;\n",
       "    }\n",
       "\n",
       "    .dataframe tbody tr th {\n",
       "        vertical-align: top;\n",
       "    }\n",
       "\n",
       "    .dataframe thead th {\n",
       "        text-align: right;\n",
       "    }\n",
       "</style>\n",
       "<table border=\"1\" class=\"dataframe\">\n",
       "  <thead>\n",
       "    <tr style=\"text-align: right;\">\n",
       "      <th></th>\n",
       "      <th>0</th>\n",
       "      <th>1</th>\n",
       "      <th>2</th>\n",
       "      <th>3</th>\n",
       "      <th>4</th>\n",
       "    </tr>\n",
       "  </thead>\n",
       "  <tbody>\n",
       "    <tr>\n",
       "      <th>0</th>\n",
       "      <td>Sudarshan</td>\n",
       "      <td>0.576776</td>\n",
       "      <td>0.940982</td>\n",
       "      <td>0.112273</td>\n",
       "      <td>0.393187</td>\n",
       "    </tr>\n",
       "    <tr>\n",
       "      <th>1</th>\n",
       "      <td>0.171949</td>\n",
       "      <td>0.765761</td>\n",
       "      <td>0.716249</td>\n",
       "      <td>0.214942</td>\n",
       "      <td>0.442491</td>\n",
       "    </tr>\n",
       "    <tr>\n",
       "      <th>2</th>\n",
       "      <td>0.019614</td>\n",
       "      <td>0.856534</td>\n",
       "      <td>0.762463</td>\n",
       "      <td>0.675108</td>\n",
       "      <td>0.171056</td>\n",
       "    </tr>\n",
       "    <tr>\n",
       "      <th>3</th>\n",
       "      <td>0.368075</td>\n",
       "      <td>0.602402</td>\n",
       "      <td>0.926846</td>\n",
       "      <td>0.324364</td>\n",
       "      <td>0.078025</td>\n",
       "    </tr>\n",
       "    <tr>\n",
       "      <th>4</th>\n",
       "      <td>0.644375</td>\n",
       "      <td>0.014702</td>\n",
       "      <td>0.026456</td>\n",
       "      <td>0.129651</td>\n",
       "      <td>0.508554</td>\n",
       "    </tr>\n",
       "  </tbody>\n",
       "</table>\n",
       "</div>"
      ],
      "text/plain": [
       "           0         1         2         3         4\n",
       "0  Sudarshan  0.576776  0.940982  0.112273  0.393187\n",
       "1   0.171949  0.765761  0.716249  0.214942  0.442491\n",
       "2   0.019614  0.856534  0.762463  0.675108  0.171056\n",
       "3   0.368075  0.602402  0.926846  0.324364  0.078025\n",
       "4   0.644375  0.014702  0.026456  0.129651  0.508554"
      ]
     },
     "execution_count": 14,
     "metadata": {},
     "output_type": "execute_result"
    }
   ],
   "source": [
    "Df.head()"
   ]
  },
  {
   "cell_type": "code",
   "execution_count": 16,
   "id": "6bc91547",
   "metadata": {},
   "outputs": [
    {
     "data": {
      "text/plain": [
       "0     object\n",
       "1    float64\n",
       "2    float64\n",
       "3    float64\n",
       "4    float64\n",
       "dtype: object"
      ]
     },
     "execution_count": 16,
     "metadata": {},
     "output_type": "execute_result"
    }
   ],
   "source": [
    "Df.dtypes"
   ]
  },
  {
   "cell_type": "code",
   "execution_count": 17,
   "id": "e380fe67",
   "metadata": {},
   "outputs": [
    {
     "data": {
      "text/plain": [
       "Int64Index([  0,   1,   2,   3,   4,   5,   6,   7,   8,   9,\n",
       "            ...\n",
       "            240, 241, 242, 243, 244, 245, 246, 247, 248, 249],\n",
       "           dtype='int64', length=250)"
      ]
     },
     "execution_count": 17,
     "metadata": {},
     "output_type": "execute_result"
    }
   ],
   "source": [
    "Df.index"
   ]
  },
  {
   "cell_type": "code",
   "execution_count": 19,
   "id": "fac702d6",
   "metadata": {},
   "outputs": [
    {
     "data": {
      "text/plain": [
       "RangeIndex(start=0, stop=5, step=1)"
      ]
     },
     "execution_count": 19,
     "metadata": {},
     "output_type": "execute_result"
    }
   ],
   "source": [
    "Df.columns"
   ]
  },
  {
   "cell_type": "code",
   "execution_count": null,
   "id": "058634de",
   "metadata": {},
   "outputs": [],
   "source": []
  }
 ],
 "metadata": {
  "kernelspec": {
   "display_name": "Python 3 (ipykernel)",
   "language": "python",
   "name": "python3"
  },
  "language_info": {
   "codemirror_mode": {
    "name": "ipython",
    "version": 3
   },
   "file_extension": ".py",
   "mimetype": "text/x-python",
   "name": "python",
   "nbconvert_exporter": "python",
   "pygments_lexer": "ipython3",
   "version": "3.9.7"
  }
 },
 "nbformat": 4,
 "nbformat_minor": 5
}
