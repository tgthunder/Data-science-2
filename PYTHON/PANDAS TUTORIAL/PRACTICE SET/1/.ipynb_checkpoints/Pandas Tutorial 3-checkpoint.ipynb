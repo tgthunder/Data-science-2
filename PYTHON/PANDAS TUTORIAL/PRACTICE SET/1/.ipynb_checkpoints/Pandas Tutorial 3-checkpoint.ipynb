{
 "cells": [
  {
   "cell_type": "code",
   "execution_count": 1,
   "id": "acce373b",
   "metadata": {},
   "outputs": [],
   "source": [
    "import numpy as np\n",
    "import pandas as pd\n"
   ]
  },
  {
   "cell_type": "code",
   "execution_count": 2,
   "id": "04ce65de",
   "metadata": {},
   "outputs": [],
   "source": [
    "ser = pd.Series(np.random.rand(20))"
   ]
  },
  {
   "cell_type": "code",
   "execution_count": 3,
   "id": "e3f1c431",
   "metadata": {},
   "outputs": [
    {
     "data": {
      "text/plain": [
       "0     0.921817\n",
       "1     0.229696\n",
       "2     0.746623\n",
       "3     0.541783\n",
       "4     0.316204\n",
       "5     0.906356\n",
       "6     0.235545\n",
       "7     0.960074\n",
       "8     0.289071\n",
       "9     0.019726\n",
       "10    0.162852\n",
       "11    0.146971\n",
       "12    0.027797\n",
       "13    0.653115\n",
       "14    0.036520\n",
       "15    0.925152\n",
       "16    0.329586\n",
       "17    0.909266\n",
       "18    0.870320\n",
       "19    0.736050\n",
       "dtype: float64"
      ]
     },
     "execution_count": 3,
     "metadata": {},
     "output_type": "execute_result"
    }
   ],
   "source": [
    "ser"
   ]
  },
  {
   "cell_type": "code",
   "execution_count": 4,
   "id": "d25a0f37",
   "metadata": {},
   "outputs": [
    {
     "data": {
      "text/plain": [
       "pandas.core.series.Series"
      ]
     },
     "execution_count": 4,
     "metadata": {},
     "output_type": "execute_result"
    }
   ],
   "source": [
    "type(ser)"
   ]
  },
  {
   "cell_type": "code",
   "execution_count": 15,
   "id": "bfd1cc12",
   "metadata": {},
   "outputs": [],
   "source": [
    "Df = pd.DataFrame(np.random.rand(250,5))"
   ]
  },
  {
   "cell_type": "code",
   "execution_count": 16,
   "id": "07856010",
   "metadata": {},
   "outputs": [
    {
     "data": {
      "text/html": [
       "<div>\n",
       "<style scoped>\n",
       "    .dataframe tbody tr th:only-of-type {\n",
       "        vertical-align: middle;\n",
       "    }\n",
       "\n",
       "    .dataframe tbody tr th {\n",
       "        vertical-align: top;\n",
       "    }\n",
       "\n",
       "    .dataframe thead th {\n",
       "        text-align: right;\n",
       "    }\n",
       "</style>\n",
       "<table border=\"1\" class=\"dataframe\">\n",
       "  <thead>\n",
       "    <tr style=\"text-align: right;\">\n",
       "      <th></th>\n",
       "      <th>0</th>\n",
       "      <th>1</th>\n",
       "      <th>2</th>\n",
       "      <th>3</th>\n",
       "      <th>4</th>\n",
       "    </tr>\n",
       "  </thead>\n",
       "  <tbody>\n",
       "    <tr>\n",
       "      <th>0</th>\n",
       "      <td>0.961275</td>\n",
       "      <td>0.070105</td>\n",
       "      <td>0.078499</td>\n",
       "      <td>0.187937</td>\n",
       "      <td>0.738789</td>\n",
       "    </tr>\n",
       "    <tr>\n",
       "      <th>1</th>\n",
       "      <td>0.811429</td>\n",
       "      <td>0.679371</td>\n",
       "      <td>0.232693</td>\n",
       "      <td>0.649732</td>\n",
       "      <td>0.430235</td>\n",
       "    </tr>\n",
       "    <tr>\n",
       "      <th>2</th>\n",
       "      <td>0.635067</td>\n",
       "      <td>0.045847</td>\n",
       "      <td>0.752680</td>\n",
       "      <td>0.873358</td>\n",
       "      <td>0.262610</td>\n",
       "    </tr>\n",
       "    <tr>\n",
       "      <th>3</th>\n",
       "      <td>0.152683</td>\n",
       "      <td>0.893426</td>\n",
       "      <td>0.976134</td>\n",
       "      <td>0.529023</td>\n",
       "      <td>0.355506</td>\n",
       "    </tr>\n",
       "    <tr>\n",
       "      <th>4</th>\n",
       "      <td>0.215900</td>\n",
       "      <td>0.601440</td>\n",
       "      <td>0.149192</td>\n",
       "      <td>0.222326</td>\n",
       "      <td>0.077522</td>\n",
       "    </tr>\n",
       "    <tr>\n",
       "      <th>...</th>\n",
       "      <td>...</td>\n",
       "      <td>...</td>\n",
       "      <td>...</td>\n",
       "      <td>...</td>\n",
       "      <td>...</td>\n",
       "    </tr>\n",
       "    <tr>\n",
       "      <th>245</th>\n",
       "      <td>0.846112</td>\n",
       "      <td>0.730588</td>\n",
       "      <td>0.103278</td>\n",
       "      <td>0.369073</td>\n",
       "      <td>0.505366</td>\n",
       "    </tr>\n",
       "    <tr>\n",
       "      <th>246</th>\n",
       "      <td>0.851837</td>\n",
       "      <td>0.308529</td>\n",
       "      <td>0.084151</td>\n",
       "      <td>0.213093</td>\n",
       "      <td>0.632705</td>\n",
       "    </tr>\n",
       "    <tr>\n",
       "      <th>247</th>\n",
       "      <td>0.188466</td>\n",
       "      <td>0.472041</td>\n",
       "      <td>0.475860</td>\n",
       "      <td>0.061299</td>\n",
       "      <td>0.886934</td>\n",
       "    </tr>\n",
       "    <tr>\n",
       "      <th>248</th>\n",
       "      <td>0.853006</td>\n",
       "      <td>0.592515</td>\n",
       "      <td>0.968900</td>\n",
       "      <td>0.286663</td>\n",
       "      <td>0.742792</td>\n",
       "    </tr>\n",
       "    <tr>\n",
       "      <th>249</th>\n",
       "      <td>0.646612</td>\n",
       "      <td>0.676087</td>\n",
       "      <td>0.290653</td>\n",
       "      <td>0.461663</td>\n",
       "      <td>0.444424</td>\n",
       "    </tr>\n",
       "  </tbody>\n",
       "</table>\n",
       "<p>250 rows × 5 columns</p>\n",
       "</div>"
      ],
      "text/plain": [
       "            0         1         2         3         4\n",
       "0    0.961275  0.070105  0.078499  0.187937  0.738789\n",
       "1    0.811429  0.679371  0.232693  0.649732  0.430235\n",
       "2    0.635067  0.045847  0.752680  0.873358  0.262610\n",
       "3    0.152683  0.893426  0.976134  0.529023  0.355506\n",
       "4    0.215900  0.601440  0.149192  0.222326  0.077522\n",
       "..        ...       ...       ...       ...       ...\n",
       "245  0.846112  0.730588  0.103278  0.369073  0.505366\n",
       "246  0.851837  0.308529  0.084151  0.213093  0.632705\n",
       "247  0.188466  0.472041  0.475860  0.061299  0.886934\n",
       "248  0.853006  0.592515  0.968900  0.286663  0.742792\n",
       "249  0.646612  0.676087  0.290653  0.461663  0.444424\n",
       "\n",
       "[250 rows x 5 columns]"
      ]
     },
     "execution_count": 16,
     "metadata": {},
     "output_type": "execute_result"
    }
   ],
   "source": [
    "Df"
   ]
  },
  {
   "cell_type": "code",
   "execution_count": 7,
   "id": "0ef6bbe6",
   "metadata": {},
   "outputs": [
    {
     "data": {
      "text/html": [
       "<div>\n",
       "<style scoped>\n",
       "    .dataframe tbody tr th:only-of-type {\n",
       "        vertical-align: middle;\n",
       "    }\n",
       "\n",
       "    .dataframe tbody tr th {\n",
       "        vertical-align: top;\n",
       "    }\n",
       "\n",
       "    .dataframe thead th {\n",
       "        text-align: right;\n",
       "    }\n",
       "</style>\n",
       "<table border=\"1\" class=\"dataframe\">\n",
       "  <thead>\n",
       "    <tr style=\"text-align: right;\">\n",
       "      <th></th>\n",
       "      <th>0</th>\n",
       "      <th>1</th>\n",
       "      <th>2</th>\n",
       "      <th>3</th>\n",
       "      <th>4</th>\n",
       "    </tr>\n",
       "  </thead>\n",
       "  <tbody>\n",
       "    <tr>\n",
       "      <th>0</th>\n",
       "      <td>0.336388</td>\n",
       "      <td>0.064883</td>\n",
       "      <td>0.362980</td>\n",
       "      <td>0.525583</td>\n",
       "      <td>0.076666</td>\n",
       "    </tr>\n",
       "    <tr>\n",
       "      <th>1</th>\n",
       "      <td>0.889614</td>\n",
       "      <td>0.037191</td>\n",
       "      <td>0.182452</td>\n",
       "      <td>0.809477</td>\n",
       "      <td>0.851696</td>\n",
       "    </tr>\n",
       "    <tr>\n",
       "      <th>2</th>\n",
       "      <td>0.430182</td>\n",
       "      <td>0.310210</td>\n",
       "      <td>0.483355</td>\n",
       "      <td>0.899567</td>\n",
       "      <td>0.934704</td>\n",
       "    </tr>\n",
       "    <tr>\n",
       "      <th>3</th>\n",
       "      <td>0.073815</td>\n",
       "      <td>0.267613</td>\n",
       "      <td>0.938048</td>\n",
       "      <td>0.141740</td>\n",
       "      <td>0.708980</td>\n",
       "    </tr>\n",
       "    <tr>\n",
       "      <th>4</th>\n",
       "      <td>0.884664</td>\n",
       "      <td>0.884625</td>\n",
       "      <td>0.185688</td>\n",
       "      <td>0.542359</td>\n",
       "      <td>0.309852</td>\n",
       "    </tr>\n",
       "  </tbody>\n",
       "</table>\n",
       "</div>"
      ],
      "text/plain": [
       "          0         1         2         3         4\n",
       "0  0.336388  0.064883  0.362980  0.525583  0.076666\n",
       "1  0.889614  0.037191  0.182452  0.809477  0.851696\n",
       "2  0.430182  0.310210  0.483355  0.899567  0.934704\n",
       "3  0.073815  0.267613  0.938048  0.141740  0.708980\n",
       "4  0.884664  0.884625  0.185688  0.542359  0.309852"
      ]
     },
     "execution_count": 7,
     "metadata": {},
     "output_type": "execute_result"
    }
   ],
   "source": [
    "Df.head()"
   ]
  },
  {
   "cell_type": "code",
   "execution_count": 8,
   "id": "c524ad75",
   "metadata": {},
   "outputs": [
    {
     "data": {
      "text/html": [
       "<div>\n",
       "<style scoped>\n",
       "    .dataframe tbody tr th:only-of-type {\n",
       "        vertical-align: middle;\n",
       "    }\n",
       "\n",
       "    .dataframe tbody tr th {\n",
       "        vertical-align: top;\n",
       "    }\n",
       "\n",
       "    .dataframe thead th {\n",
       "        text-align: right;\n",
       "    }\n",
       "</style>\n",
       "<table border=\"1\" class=\"dataframe\">\n",
       "  <thead>\n",
       "    <tr style=\"text-align: right;\">\n",
       "      <th></th>\n",
       "      <th>0</th>\n",
       "      <th>1</th>\n",
       "      <th>2</th>\n",
       "      <th>3</th>\n",
       "      <th>4</th>\n",
       "    </tr>\n",
       "  </thead>\n",
       "  <tbody>\n",
       "    <tr>\n",
       "      <th>count</th>\n",
       "      <td>250.000000</td>\n",
       "      <td>250.000000</td>\n",
       "      <td>250.000000</td>\n",
       "      <td>250.000000</td>\n",
       "      <td>250.000000</td>\n",
       "    </tr>\n",
       "    <tr>\n",
       "      <th>mean</th>\n",
       "      <td>0.495935</td>\n",
       "      <td>0.519285</td>\n",
       "      <td>0.494553</td>\n",
       "      <td>0.494250</td>\n",
       "      <td>0.508404</td>\n",
       "    </tr>\n",
       "    <tr>\n",
       "      <th>std</th>\n",
       "      <td>0.290459</td>\n",
       "      <td>0.298908</td>\n",
       "      <td>0.297988</td>\n",
       "      <td>0.267982</td>\n",
       "      <td>0.286246</td>\n",
       "    </tr>\n",
       "    <tr>\n",
       "      <th>min</th>\n",
       "      <td>0.007039</td>\n",
       "      <td>0.002995</td>\n",
       "      <td>0.000918</td>\n",
       "      <td>0.009105</td>\n",
       "      <td>0.007757</td>\n",
       "    </tr>\n",
       "    <tr>\n",
       "      <th>25%</th>\n",
       "      <td>0.240150</td>\n",
       "      <td>0.271873</td>\n",
       "      <td>0.226239</td>\n",
       "      <td>0.268547</td>\n",
       "      <td>0.277240</td>\n",
       "    </tr>\n",
       "    <tr>\n",
       "      <th>50%</th>\n",
       "      <td>0.485008</td>\n",
       "      <td>0.523216</td>\n",
       "      <td>0.476028</td>\n",
       "      <td>0.516878</td>\n",
       "      <td>0.494586</td>\n",
       "    </tr>\n",
       "    <tr>\n",
       "      <th>75%</th>\n",
       "      <td>0.753168</td>\n",
       "      <td>0.772330</td>\n",
       "      <td>0.743022</td>\n",
       "      <td>0.716765</td>\n",
       "      <td>0.755960</td>\n",
       "    </tr>\n",
       "    <tr>\n",
       "      <th>max</th>\n",
       "      <td>0.997027</td>\n",
       "      <td>0.999513</td>\n",
       "      <td>0.999835</td>\n",
       "      <td>0.998819</td>\n",
       "      <td>0.998315</td>\n",
       "    </tr>\n",
       "  </tbody>\n",
       "</table>\n",
       "</div>"
      ],
      "text/plain": [
       "                0           1           2           3           4\n",
       "count  250.000000  250.000000  250.000000  250.000000  250.000000\n",
       "mean     0.495935    0.519285    0.494553    0.494250    0.508404\n",
       "std      0.290459    0.298908    0.297988    0.267982    0.286246\n",
       "min      0.007039    0.002995    0.000918    0.009105    0.007757\n",
       "25%      0.240150    0.271873    0.226239    0.268547    0.277240\n",
       "50%      0.485008    0.523216    0.476028    0.516878    0.494586\n",
       "75%      0.753168    0.772330    0.743022    0.716765    0.755960\n",
       "max      0.997027    0.999513    0.999835    0.998819    0.998315"
      ]
     },
     "execution_count": 8,
     "metadata": {},
     "output_type": "execute_result"
    }
   ],
   "source": [
    "Df.describe()"
   ]
  },
  {
   "cell_type": "code",
   "execution_count": 9,
   "id": "1a4bf208",
   "metadata": {},
   "outputs": [
    {
     "data": {
      "text/plain": [
       "0    float64\n",
       "1    float64\n",
       "2    float64\n",
       "3    float64\n",
       "4    float64\n",
       "dtype: object"
      ]
     },
     "execution_count": 9,
     "metadata": {},
     "output_type": "execute_result"
    }
   ],
   "source": [
    "Df.dtypes"
   ]
  },
  {
   "cell_type": "code",
   "execution_count": 10,
   "id": "13a2d3d5",
   "metadata": {},
   "outputs": [],
   "source": [
    "Df[0][0] = 'Sudarshan'"
   ]
  },
  {
   "cell_type": "code",
   "execution_count": 11,
   "id": "ca4cbbce",
   "metadata": {},
   "outputs": [
    {
     "data": {
      "text/html": [
       "<div>\n",
       "<style scoped>\n",
       "    .dataframe tbody tr th:only-of-type {\n",
       "        vertical-align: middle;\n",
       "    }\n",
       "\n",
       "    .dataframe tbody tr th {\n",
       "        vertical-align: top;\n",
       "    }\n",
       "\n",
       "    .dataframe thead th {\n",
       "        text-align: right;\n",
       "    }\n",
       "</style>\n",
       "<table border=\"1\" class=\"dataframe\">\n",
       "  <thead>\n",
       "    <tr style=\"text-align: right;\">\n",
       "      <th></th>\n",
       "      <th>0</th>\n",
       "      <th>1</th>\n",
       "      <th>2</th>\n",
       "      <th>3</th>\n",
       "      <th>4</th>\n",
       "    </tr>\n",
       "  </thead>\n",
       "  <tbody>\n",
       "    <tr>\n",
       "      <th>0</th>\n",
       "      <td>Sudarshan</td>\n",
       "      <td>0.064883</td>\n",
       "      <td>0.362980</td>\n",
       "      <td>0.525583</td>\n",
       "      <td>0.076666</td>\n",
       "    </tr>\n",
       "    <tr>\n",
       "      <th>1</th>\n",
       "      <td>0.889614</td>\n",
       "      <td>0.037191</td>\n",
       "      <td>0.182452</td>\n",
       "      <td>0.809477</td>\n",
       "      <td>0.851696</td>\n",
       "    </tr>\n",
       "    <tr>\n",
       "      <th>2</th>\n",
       "      <td>0.430182</td>\n",
       "      <td>0.310210</td>\n",
       "      <td>0.483355</td>\n",
       "      <td>0.899567</td>\n",
       "      <td>0.934704</td>\n",
       "    </tr>\n",
       "    <tr>\n",
       "      <th>3</th>\n",
       "      <td>0.073815</td>\n",
       "      <td>0.267613</td>\n",
       "      <td>0.938048</td>\n",
       "      <td>0.141740</td>\n",
       "      <td>0.708980</td>\n",
       "    </tr>\n",
       "    <tr>\n",
       "      <th>4</th>\n",
       "      <td>0.884664</td>\n",
       "      <td>0.884625</td>\n",
       "      <td>0.185688</td>\n",
       "      <td>0.542359</td>\n",
       "      <td>0.309852</td>\n",
       "    </tr>\n",
       "  </tbody>\n",
       "</table>\n",
       "</div>"
      ],
      "text/plain": [
       "           0         1         2         3         4\n",
       "0  Sudarshan  0.064883  0.362980  0.525583  0.076666\n",
       "1   0.889614  0.037191  0.182452  0.809477  0.851696\n",
       "2   0.430182  0.310210  0.483355  0.899567  0.934704\n",
       "3   0.073815  0.267613  0.938048  0.141740  0.708980\n",
       "4   0.884664  0.884625  0.185688  0.542359  0.309852"
      ]
     },
     "execution_count": 11,
     "metadata": {},
     "output_type": "execute_result"
    }
   ],
   "source": [
    "Df.head()"
   ]
  },
  {
   "cell_type": "code",
   "execution_count": 12,
   "id": "6bc91547",
   "metadata": {},
   "outputs": [
    {
     "data": {
      "text/plain": [
       "0     object\n",
       "1    float64\n",
       "2    float64\n",
       "3    float64\n",
       "4    float64\n",
       "dtype: object"
      ]
     },
     "execution_count": 12,
     "metadata": {},
     "output_type": "execute_result"
    }
   ],
   "source": [
    "Df.dtypes"
   ]
  },
  {
   "cell_type": "code",
   "execution_count": 13,
   "id": "e380fe67",
   "metadata": {},
   "outputs": [
    {
     "data": {
      "text/plain": [
       "Int64Index([  0,   1,   2,   3,   4,   5,   6,   7,   8,   9,\n",
       "            ...\n",
       "            240, 241, 242, 243, 244, 245, 246, 247, 248, 249],\n",
       "           dtype='int64', length=250)"
      ]
     },
     "execution_count": 13,
     "metadata": {},
     "output_type": "execute_result"
    }
   ],
   "source": [
    "Df.index"
   ]
  },
  {
   "cell_type": "code",
   "execution_count": 14,
   "id": "fac702d6",
   "metadata": {},
   "outputs": [
    {
     "data": {
      "text/plain": [
       "RangeIndex(start=0, stop=5, step=1)"
      ]
     },
     "execution_count": 14,
     "metadata": {},
     "output_type": "execute_result"
    }
   ],
   "source": [
    "Df.columns"
   ]
  },
  {
   "cell_type": "code",
   "execution_count": null,
   "id": "058634de",
   "metadata": {},
   "outputs": [],
   "source": []
  }
 ],
 "metadata": {
  "kernelspec": {
   "display_name": "Python 3 (ipykernel)",
   "language": "python",
   "name": "python3"
  },
  "language_info": {
   "codemirror_mode": {
    "name": "ipython",
    "version": 3
   },
   "file_extension": ".py",
   "mimetype": "text/x-python",
   "name": "python",
   "nbconvert_exporter": "python",
   "pygments_lexer": "ipython3",
   "version": "3.9.7"
  }
 },
 "nbformat": 4,
 "nbformat_minor": 5
}
