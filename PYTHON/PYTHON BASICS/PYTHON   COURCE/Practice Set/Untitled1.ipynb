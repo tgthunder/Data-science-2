{
 "cells": [
  {
   "cell_type": "code",
   "execution_count": 18,
   "id": "22c0753b",
   "metadata": {},
   "outputs": [],
   "source": [
    "# Finding std and variance\n",
    "import math\n",
    "a = [12,3,67,45,87,19]\n",
    "\n",
    "def var(a):\n",
    "    sum = 0\n",
    "    for i in a:\n",
    "        sum +=i\n",
    "    mean = sum/len(a)\n",
    "    \n",
    "    var = 0\n",
    "    for i in a:\n",
    "        var = var + (i-mean)**2/len(a)\n",
    "    \n",
    "    std = math.sqrt(var)\n",
    "    print(\"Variance is \",var)\n",
    "    print(\"Standard deviation is \",std)\n",
    "    print(\"Coefficient of variation \",std/var)\n"
   ]
  },
  {
   "cell_type": "code",
   "execution_count": 19,
   "id": "7ad5c025",
   "metadata": {},
   "outputs": [
    {
     "name": "stdout",
     "output_type": "stream",
     "text": [
      "Variance is  924.8055555555557\n",
      "Standard deviation is  30.4106158365061\n",
      "Coefficient of variation  0.03288325384057368\n"
     ]
    }
   ],
   "source": [
    "var(a)"
   ]
  },
  {
   "cell_type": "code",
   "execution_count": null,
   "id": "bdf06449",
   "metadata": {},
   "outputs": [],
   "source": []
  }
 ],
 "metadata": {
  "kernelspec": {
   "display_name": "Python 3 (ipykernel)",
   "language": "python",
   "name": "python3"
  },
  "language_info": {
   "codemirror_mode": {
    "name": "ipython",
    "version": 3
   },
   "file_extension": ".py",
   "mimetype": "text/x-python",
   "name": "python",
   "nbconvert_exporter": "python",
   "pygments_lexer": "ipython3",
   "version": "3.9.13"
  }
 },
 "nbformat": 4,
 "nbformat_minor": 5
}
