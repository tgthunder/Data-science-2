{
 "cells": [
  {
   "cell_type": "code",
   "execution_count": 1,
   "id": "c7dc2a6a",
   "metadata": {},
   "outputs": [
    {
     "name": "stdout",
     "output_type": "stream",
     "text": [
      "Enter the value of a :35445\n",
      "Enter the value of b :556\n",
      "Enter the value of c :677\n",
      "Not right angled\n"
     ]
    }
   ],
   "source": [
    "#pythagorus theorm\n",
    "a = int(input(\"Enter the value of a :\"))\n",
    "b =  int(input(\"Enter the value of b :\"))\n",
    "c =  int(input(\"Enter the value of c :\"))\n",
    "\n",
    "if (a**2+b**2==c**2) or (a**2 + c**2 == b**2) or (b**2 + c**2 == a**2):\n",
    "    \n",
    "    print(\"Right angled traingle\")\n",
    "    \n",
    "else:\n",
    "    print(\"Not right angled\")\n"
   ]
  },
  {
   "cell_type": "code",
   "execution_count": 2,
   "id": "312ad028",
   "metadata": {},
   "outputs": [
    {
     "name": "stdout",
     "output_type": "stream",
     "text": [
      "Enter the marks34\n",
      "Welcome to IIT Narhe 😂😂\n",
      "Out of IIT Narhe\n"
     ]
    }
   ],
   "source": [
    "# nested if else statements\n",
    "marks = int(input(\"Enter the marks\"))\n",
    "\n",
    "if marks>150:\n",
    "    print(\"COEP\")\n",
    "    \n",
    "elif marks> 160:\n",
    "    print(\"PICT\")\n",
    "    \n",
    "else:\n",
    "    print(\"Welcome to IIT Narhe 😂😂\")\n",
    "    if marks >130:\n",
    "        print(\"eligible for computer department\")\n",
    "    elif marks>100:\n",
    "        print(\"eligible for IT\")\n",
    "    else:\n",
    "        print(\"Out of IIT Narhe\")"
   ]
  },
  {
   "cell_type": "code",
   "execution_count": 12,
   "id": "15669496",
   "metadata": {},
   "outputs": [
    {
     "name": "stdout",
     "output_type": "stream",
     "text": [
      "2 is Even number\n",
      "5 is odd number\n",
      "8 is Even number\n",
      "3 is odd number\n",
      "9 is odd number\n",
      "11 is odd number\n",
      "90 is Even number\n",
      "--------------------------\n",
      "Number is smaller than 5\n",
      "4\n",
      "Number is smaller than 5\n",
      "25\n",
      "8\n",
      "Number is smaller than 5\n",
      "9\n",
      "9\n",
      "11\n",
      "90\n"
     ]
    }
   ],
   "source": [
    "l = [2,5,8,3,9,11,90]\n",
    "k = []\n",
    "s = []\n",
    "for i in l:\n",
    "    if(i%2==0):\n",
    "        print(f\"{i} is Even number\")\n",
    "    else:\n",
    "        print(f\"{i} is odd number\")\n",
    "print(\"--------------------------\")\n",
    "\n",
    "for i in l:\n",
    "    if(i<=5):\n",
    "        print(\"Number is smaller than 5\")\n",
    "        print(i**2)\n",
    "    \n",
    "    else:\n",
    "        print(i)"
   ]
  },
  {
   "cell_type": "code",
   "execution_count": 27,
   "id": "a00d72e8",
   "metadata": {},
   "outputs": [
    {
     "name": "stdout",
     "output_type": "stream",
     "text": [
      "Table of 2 : \n",
      "2*1 = 2\n",
      "2*2 = 4\n",
      "2*3 = 6\n",
      "2*4 = 8\n",
      "2*5 = 10\n",
      "2*6 = 12\n",
      "2*7 = 14\n",
      "2*8 = 16\n",
      "2*9 = 18\n",
      "2*10 = 20\n"
     ]
    }
   ],
   "source": [
    "print(\"Table of 2 : \")\n",
    "for i in range(1,11):\n",
    "    print(f\"2*{i} = {2*i}\")"
   ]
  },
  {
   "cell_type": "code",
   "execution_count": 30,
   "id": "0e84c15f",
   "metadata": {},
   "outputs": [
    {
     "name": "stdout",
     "output_type": "stream",
     "text": [
      "2\n",
      "4\n",
      "6\n",
      "8\n",
      "10\n",
      "12\n",
      "14\n",
      "16\n",
      "18\n",
      "20\n",
      "22\n",
      "24\n",
      "26\n",
      "28\n",
      "30\n"
     ]
    }
   ],
   "source": [
    "# even number bet 1 to 30\n",
    "for i in range(1,31):\n",
    "    if(i%2==0):\n",
    "        print(i)"
   ]
  },
  {
   "cell_type": "code",
   "execution_count": 31,
   "id": "85dc84a5",
   "metadata": {},
   "outputs": [
    {
     "name": "stdout",
     "output_type": "stream",
     "text": [
      "7\n",
      "14\n",
      "21\n",
      "28\n",
      "35\n",
      "42\n",
      "49\n",
      "56\n",
      "63\n",
      "70\n"
     ]
    }
   ],
   "source": [
    "for i in range(1,11):\n",
    "    print(7*i)"
   ]
  },
  {
   "cell_type": "code",
   "execution_count": 33,
   "id": "d8406fea",
   "metadata": {},
   "outputs": [
    {
     "name": "stdout",
     "output_type": "stream",
     "text": [
      "2\n",
      "4\n",
      "6\n",
      "8\n",
      "10\n",
      "12\n",
      "14\n",
      "16\n",
      "18\n",
      "20\n"
     ]
    }
   ],
   "source": [
    "i = 1\n",
    "while i<=10:\n",
    "    print(2*i)\n",
    "    i+=1"
   ]
  },
  {
   "cell_type": "code",
   "execution_count": null,
   "id": "1692a69d",
   "metadata": {},
   "outputs": [],
   "source": []
  }
 ],
 "metadata": {
  "kernelspec": {
   "display_name": "Python 3 (ipykernel)",
   "language": "python",
   "name": "python3"
  },
  "language_info": {
   "codemirror_mode": {
    "name": "ipython",
    "version": 3
   },
   "file_extension": ".py",
   "mimetype": "text/x-python",
   "name": "python",
   "nbconvert_exporter": "python",
   "pygments_lexer": "ipython3",
   "version": "3.9.13"
  }
 },
 "nbformat": 4,
 "nbformat_minor": 5
}
