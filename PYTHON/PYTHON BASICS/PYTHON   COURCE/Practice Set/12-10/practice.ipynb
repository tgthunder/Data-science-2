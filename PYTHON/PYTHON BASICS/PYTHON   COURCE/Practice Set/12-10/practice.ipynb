{
 "cells": [
  {
   "cell_type": "code",
   "execution_count": null,
   "id": "a653f778",
   "metadata": {},
   "outputs": [],
   "source": [
    "def sum():\n",
    "    a,b=[int(x) for x in input(\"Enter two numbers:\").split(',')]\n",
    "    c= a+b\n",
    "    return f\"The sum of a and b is {c}\"\n",
    "\n",
    "# print(sum())\n",
    "\n",
    "def evod():\n",
    "    a=int(input(\"Enter a number:\"))\n",
    "    if a%2==0:\n",
    "        print(\"The number is even\")\n",
    "    else:\n",
    "        print(\"The number is odd\")\n",
    "evod()\n",
    "\n",
    "def fact(n):\n",
    "    if n==1:\n",
    "        print"
   ]
  },
  {
   "cell_type": "code",
   "execution_count": null,
   "id": "c83648df",
   "metadata": {},
   "outputs": [],
   "source": [
    "file = open(\"sudarshan.txt\")\n",
    "content = file.read()\n",
    "# print(content)\n",
    "# file.close()\n",
    "# f1 = open(\"sudarshan.txt\")\n",
    "# content = f1.read()\n",
    "# print(content)\n",
    "# f1.close()\n",
    "# file = open(\"sudarshan.txt\")\n",
    "# print(file.read(5))\n",
    "# file = open(\"sudarshan.txt\",'wt')\n",
    "# file.write(\"Data sciene\")\n",
    "# file.close()\n",
    "# f2 = open('sudarshan.txt','a')\n",
    "# f2.write(\"\\nMachine learning\")\n",
    "# f2.close()\n",
    "# f3 = open(\"sudarshan.txt\",'r+')\n",
    "# print(f3.read())\n",
    "# f3.write(\"Sudarshan dada\")\n",
    "# f3.close()\n",
    "\n",
    "# with open(\"sudarshan.txt\",'r+') as f:\n",
    "#     print(f.tell())\n",
    "#     print(f.readline())\n",
    "#     print(f.tell())\n",
    "#     print(f.readline())\n",
    "#     print(f.tell())\n",
    "#     print(f.seek(10))\n",
    "#     print(f.readline())\n",
    "#     print(f.readline())\n",
    "\n",
    "# str1 = input(\"Enter your data:\")\n",
    "# with open(\"user.txt\",'w') as f:\n",
    "#     f.write(str1)\n",
    "# f.close()\n",
    "f = open(\"user.txt\",'r+')\n",
    "f.write(\"Hi My name is sudarshan\\nI am 20 yrs old\\nI am going work with machine learning and deep learning\")\n",
    "f.close()\n",
    "f = open(\"user.txt\",\"r+\")\n",
    "f.read().splitlines()"
   ]
  },
  {
   "cell_type": "code",
   "execution_count": null,
   "id": "083c2a51",
   "metadata": {},
   "outputs": [],
   "source": [
    "# lets understand about global and local variables.\n",
    "# m= 34\n",
    "# def func1(n):\n",
    "#     a,b=2,6\n",
    "#     c = 5\n",
    "#     m=7\n",
    "#     print(a,b,c,m)\n",
    "    \n",
    "#     print(n,\"My name is Sudarshan\")\n",
    "# func1(\"HI\")\n",
    "# def func1():\n",
    "#     x=34\n",
    "#     def func2():\n",
    "#         global x\n",
    "#         x=8\n",
    "#         print(\"Before calling func2()\",x)\n",
    "#     func2()\n",
    "#     print(\"After calling funct2()\",x)\n",
    "# func1()\n",
    "\n",
    "def fac_itrate(n):\n",
    "    fac=1\n",
    "    for i in range(n):\n",
    "        fac = fac*(i+1)\n",
    "    return fac\n",
    "print(fac_itrate(5))\n",
    "\n",
    "def recursive(n):\n",
    "    if n==1:\n",
    "        return 1\n",
    "    else:\n",
    "        return n*(recursive(n-1))\n",
    "print(recursive(5))\n",
    "\n",
    "def fibonacci(n):\n",
    "    if n==1:\n",
    "        return 0\n",
    "    elif n==2:\n",
    "        return 1\n",
    "    else:\n",
    "        return fibonacci(n-1)+fibonacci(n-2)\n",
    "print(fibonacci(5))\n",
    "\n",
    "# def add(a,b):\n",
    "#     return a+b\n",
    "# k,l=[int(x) for x in input(\"Enter 2 numbers:\").split(',')]\n",
    "# print(add(k,l))\n",
    "# print(\"result of lambda \")\n",
    "# add = lambda x,y: x+y\n",
    "# print(add(k,l))\n",
    "\n",
    "l = [[1,2],[4,76],[5,8]]\n",
    "l.sort(key = lambda x:x[0])\n",
    "print(l)\n",
    "\n",
    "l = [1,4,6,8]\n",
    "a= lambda x:x*x\n",
    "print(a(l))"
   ]
  },
  {
   "cell_type": "code",
   "execution_count": null,
   "id": "41a74706",
   "metadata": {},
   "outputs": [],
   "source": [
    "import random\n",
    "\n",
    "random_no = random.randint(0,10)\n",
    "print(random_no)\n",
    "print(type(random_no))\n",
    "rand = random.random()*10\n",
    "print(rand)\n",
    " \n",
    "a=['Sudarshan','Sourabh','Tanish','Sampat','Rudra']\n",
    "choice = random.choice(a)\n",
    "print(choice)\n",
    "# print(dir(random))\n",
    "l=random.randrange(0,101,2)\n",
    "print(l)\n",
    "shuf = \"one two three four\".split()\n",
    "print(shuf)\n",
    "m= random.shuffle(shuf)\n",
    "print(m)\n",
    "\n"
   ]
  },
  {
   "cell_type": "code",
   "execution_count": null,
   "id": "5786d514",
   "metadata": {
    "scrolled": true
   },
   "outputs": [],
   "source": [
    "def funargs(*args):\n",
    "    for i in args:\n",
    "        print(\"Hello \",i)\n",
    "# l='Sudarshan sourabh Tanish Aryan Samarth'.split()\n",
    "# funargs(*l)\n",
    "\n",
    "dict1 ={\"Sudarshan\":\"Python\",\"Ritesh\":\"C++\",\"Ram\":\"Java\",\"Kashi\":\"Kotlin\"}\n",
    "def kwargs(**kwarg):\n",
    "    for key,value in dict1.items():\n",
    "        print(f\"{key} master in {value} laguage\")\n",
    "kwargs(**dict1)\n",
    "\n",
    "l1=['a','b','c','d','e','f','g','h']\n",
    "l1 = enumerate(l1)\n",
    "print(l1)\n",
    "for item in l1:\n",
    "    print(item)\n",
    "import sklearn as sk\n",
    "print(dir(sk))"
   ]
  },
  {
   "cell_type": "code",
   "execution_count": null,
   "id": "1e40935b",
   "metadata": {},
   "outputs": [],
   "source": [
    "def func1(num):\n",
    "    if num==0:\n",
    "        return print\n",
    "    if num==1:\n",
    "        return sum\n",
    "print(func1(1))\n",
    "    \n",
    "def dec1(func1):\n",
    "    def executor():\n",
    "        print(\"Execute now\")\n",
    "        func1()\n",
    "        print(\"Executed\")\n",
    "    return executor\n",
    "def sudarshan():\n",
    "    print(\"This is sudarshan sutar\")\n",
    "sudarshan = dec1(sudarshan)\n",
    "sudarshan()\n",
    "@dec1\n",
    "def sudar():\n",
    "    print(\"Come On!\")\n",
    "sudar()"
   ]
  },
  {
   "cell_type": "code",
   "execution_count": null,
   "id": "f4000002",
   "metadata": {},
   "outputs": [],
   "source": [
    "l=[\"2\",\"3\",\"56\",\"7\",\"45\"]\n",
    "k = list(map(int,l))\n",
    "print(k)\n",
    "k[3]=k[3]+5\n",
    "print(k[3])"
   ]
  },
  {
   "cell_type": "code",
   "execution_count": null,
   "id": "02466321",
   "metadata": {},
   "outputs": [],
   "source": [
    "def add(a,b):\n",
    "    c = a+b\n",
    "    d = a-b\n",
    "    return c,d\n",
    "x,y = [int(x) for x in input(\"Enter 2 numbers sep by comma:\").split(',')]\n",
    "\n",
    "l,m = add(x,y)\n",
    "\n",
    "print(\"The addition is:\",l)\n",
    "print(\"The subtraction is:\",m)"
   ]
  },
  {
   "cell_type": "code",
   "execution_count": null,
   "id": "68a8dff9",
   "metadata": {},
   "outputs": [],
   "source": [
    "# # # # def display():\n",
    "# # # #     def messege():\n",
    "# # # #         return \"hi how are you?\"\n",
    "# # # #     return messege\n",
    "# # # # fun = display()\n",
    "# # # # print(fun())\n",
    "\n",
    "# # # l = [1,2,3,4]\n",
    "# # # print(id(l))\n",
    "# # # m=l.copy()\n",
    "# # # # print(id(m))\n",
    "\n",
    "# # def calculate(lst):\n",
    "# #     \"\"\"To find the sum and avg\"\"\"\n",
    "# #     n= len(lst)\n",
    "# #     sum=0\n",
    "# #     for i in lst:\n",
    "# #         sum = sum +i\n",
    "# #         avg = sum/n\n",
    "# #     return sum , avg\n",
    "\n",
    "# # lst = [int(x) for x in input(\"Enter numbers sep by ,:\").split(',')]\n",
    "# # x,y = calculate(lst)\n",
    "# # print(\"The sum of list of elements:\",x)\n",
    "# # print(\"The avg of list of elements:\",y)\n",
    "\n",
    "# l=[45,3,6,2,86,4,9,34,5]\n",
    "# # x=[]\n",
    "# # y=[]\n",
    "# # for i in l:\n",
    "# #     if i%2==0:\n",
    "# #         x.append(i)\n",
    "# #     else:\n",
    "# #         y.append(i)\n",
    "    \n",
    "# # print(\"The even numbers are:\",x)\n",
    "# # print(\"The odd numbers are:\",y)\n",
    "# m1 = list(map(lambda x:x*x,l))\n",
    "# print(m1)\n",
    "# from functools import reduce\n",
    "\n",
    "# m2 = reduce(lambda x,y:x*y,l)\n",
    "# print(m2)\n",
    " \n",
    "#decorators\n",
    "def decor(num):\n",
    "    def add():\n",
    "        value = num()\n",
    "        return value + 2\n",
    "    return add\n",
    "\n",
    "def decor1(num):\n",
    "    def mult():\n",
    "        value = num()\n",
    "        return value*2\n",
    "    return mult\n",
    "\n",
    "@decor\n",
    "@decor1\n",
    "def num():\n",
    "    return 10\n"
   ]
  },
  {
   "cell_type": "code",
   "execution_count": null,
   "id": "0361036b",
   "metadata": {},
   "outputs": [],
   "source": [
    "Class Buf(object):\n",
    "    def _init_(self):\n",
    "        "
   ]
  },
  {
   "cell_type": "code",
   "execution_count": null,
   "id": "50cfaf42",
   "metadata": {},
   "outputs": [],
   "source": [
    "class Student:\n",
    "    pass\n",
    "sudarshan = student()\n",
    "sourabh = student()\n",
    "\n",
    "sudarshan.name = 'Sudarshan'\n",
    "sudarshan.rollno = 64\n",
    "sourabh.name = 'Sourya'\n",
    "sourabh.rollno = 34\n",
    "\n",
    "print(sudarshan.name,sourabh.name)\n",
    "print(sudarshan.rollno)"
   ]
  },
  {
   "cell_type": "code",
   "execution_count": null,
   "id": "9fb3f27e",
   "metadata": {},
   "outputs": [],
   "source": [
    "class Employee():\n",
    "    no_of_leaves = 10\n",
    "    def __init__(self,name,sal,job):\n",
    "        self.name = name\n",
    "        self.sal = sal\n",
    "        self.job = job\n",
    "    \n",
    "    @classmethod\n",
    "    def change_leaves(self,newleaves):\n",
    "         self.no_of_leaves = newleaves  \n",
    "    @classmethod\n",
    "    def sep_dash(self,string):\n",
    "        return self(*string.split('-'))\n",
    "    @staticmethod\n",
    "    def from_stat(string):\n",
    "        print(\"Hey I am good\" ,string)\n",
    "sudarshan = Employee(\"Sudarshan\",150,\"Helper\")\n",
    "sourabh = Employee(\"Sourabh\",450,\"Boss\")\n",
    "karan = Employee.sep_dash(\"Karan-345-programmer\")\n",
    "print(karan.sal)\n",
    "print(sudarshan.name)\n",
    "sudarshan.change_leaves(45)\n",
    "print(sudarshan.no_of_leaves)\n",
    "print(sourabh.no_of_leaves)\n",
    "karan.from_stat(\"Sudrashan\")"
   ]
  },
  {
   "cell_type": "code",
   "execution_count": 44,
   "id": "5a8e5ccb",
   "metadata": {},
   "outputs": [
    {
     "name": "stdout",
     "output_type": "stream",
     "text": [
      "10\n",
      "The name is Tanish and salary is 100 and job is Architecturer and he knows ['C++', 'Java']\n",
      "The name is Sagar and salary is 430 and job is Developer and he knows Javascript\n",
      "Hey I am good Sagar\n",
      "10\n",
      "45\n",
      "98\n"
     ]
    }
   ],
   "source": [
    "class Employee():\n",
    "    _protected = 45\n",
    "    __priv = 98\n",
    "    no_of_leaves = 10\n",
    "    def __init__(self,name,sal,job):\n",
    "        self.name = name\n",
    "        self.sal = sal\n",
    "        self.job = job\n",
    "    \n",
    "    @classmethod\n",
    "    def change_leaves(self,newleaves):\n",
    "         self.no_of_leaves = newleaves  \n",
    "            \n",
    "    @classmethod\n",
    "    def sep_dash(self,string):\n",
    "        return self(*string.split('-'))\n",
    "    \n",
    "    @staticmethod\n",
    "    def from_stat(string):\n",
    "        print(\"Hey I am good\" ,string)\n",
    "        \n",
    "class Programmer(Employee):\n",
    "    def __init__(self,name,sal,job,language):\n",
    "        self.name = name\n",
    "        self.sal = sal \n",
    "        self.job = job\n",
    "        self.language = language\n",
    "    \n",
    "    def printall(self):\n",
    "        return f\"The name is {self.name} and salary is {self.sal} and job is {self.job} and he knows {self.language}\"\n",
    "sudarshan = Employee(\"Sudarshan\",278,\"Aalyst\")\n",
    "print(sudarshan.no_of_leaves)\n",
    "tanish = Programmer(\"Tanish\",100,\"Architecturer\",[\"C++\",\"Java\"])\n",
    "sagar = Programmer(\"Sagar\",430,\"Developer\",\"Javascript\")\n",
    "print(tanish.printall())\n",
    "print(sagar.printall())\n",
    "sagar.from_stat(\"Sagar\")\n",
    "tanish.change_leaves(4)\n",
    "print(sudarshan.no_of_leaves)\n",
    "print(sudarshan._protected)\n",
    "print(sudarshan._Employee__priv)"
   ]
  },
  {
   "cell_type": "code",
   "execution_count": 40,
   "id": "4de03553",
   "metadata": {},
   "outputs": [
    {
     "name": "stdout",
     "output_type": "stream",
     "text": [
      "209\n",
      "23\n",
      "45\n"
     ]
    }
   ],
   "source": [
    "class Employee:\n",
    "    no_of_leaves = 10\n",
    "#     var = 5\n",
    "    _protected = 34\n",
    "    __private = 40\n",
    "    def __init__(self,name,sal,job):\n",
    "        self.name = name\n",
    "        self.sal = sal\n",
    "        self.job = job\n",
    "    \n",
    "    @classmethod\n",
    "    def change_leaves(self,newleaves):\n",
    "         self.no_of_leaves = newleaves  \n",
    "            \n",
    "    @classmethod\n",
    "    def sep_dash(self,string):\n",
    "        return self(*string.split('-'))\n",
    "    \n",
    "    @staticmethod\n",
    "    def from_stat(string):\n",
    "        print(\"Hey I am good\" ,string)\n",
    "        \n",
    "class Player:\n",
    "    no_of_games =6\n",
    "    var =23\n",
    "    def __init__(self,name,game):\n",
    "        self.name = name\n",
    "        self.game = game\n",
    "    def printdet(self):\n",
    "        return f\"The name is {self.name} and he plays {self.game}\"\n",
    "\n",
    "class CoolProgrammer(Employee,Player):\n",
    "#     var =87\n",
    "    languages = \"C++\"\n",
    "    def language(self):\n",
    "        return self.languages\n",
    "    \n",
    "abhijit = CoolProgrammer(\"Abhijit\",209,\"CoolProg\")\n",
    "print(abhijit.sal)\n",
    "print(abhijit.var)\n",
    "print(sudarshan._protected)\n"
   ]
  },
  {
   "cell_type": "code",
   "execution_count": 1,
   "id": "c6a3fac4",
   "metadata": {},
   "outputs": [
    {
     "name": "stdout",
     "output_type": "stream",
     "text": [
      "He I am Dancing with 4 styles\n"
     ]
    }
   ],
   "source": [
    "class Dad:\n",
    "    football = 5\n",
    "    \n",
    "class Son(Dad):\n",
    "    Dance = 3\n",
    "    football =7\n",
    "    def isdance(self):\n",
    "        return f\"Yes! I can dance in {self.Dance} no of styles\"\n",
    "class GrandSon(Son):\n",
    "    Dance = 4\n",
    "    football =6\n",
    "    def isdance(self):\n",
    "        return f\"He I am Dancing with {self.Dance} styles\"\n",
    "    \n",
    "Harry = Dad()\n",
    "Garry = Son()\n",
    "Larry = GrandSon()\n",
    "\n",
    "print(Larry.isdance())"
   ]
  },
  {
   "cell_type": "code",
   "execution_count": 51,
   "id": "676b31ef",
   "metadata": {},
   "outputs": [
    {
     "name": "stdout",
     "output_type": "stream",
     "text": [
      "Name of the teacher is  Prakash\n",
      "ID of the teacher is  12\n"
     ]
    }
   ],
   "source": [
    "class Teacher:\n",
    "    def setname(self,name):\n",
    "        self.name = name\n",
    "    def getname(self):\n",
    "        return self.name\n",
    "    def setid(self,id):\n",
    "        self.id = id\n",
    "    def getid(self):\n",
    "        return self.id\n",
    "    def setsalary(self,salary):\n",
    "        self.sal = salary\n",
    "    def getsal(self):\n",
    "        return self.sal\n",
    "t = Teacher()\n",
    "t.setid(12)\n",
    "t.setname(\"Prakash\")\n",
    "t.setsalary(1400)\n",
    "print(\"Name of the teacher is \",t.getname())\n",
    "print(\"ID of the teacher is \",t.getid())"
   ]
  },
  {
   "cell_type": "code",
   "execution_count": 10,
   "id": "5b748c15",
   "metadata": {},
   "outputs": [
    {
     "name": "stdout",
     "output_type": "stream",
     "text": [
      "Enter 2 numbrs:4,6\n"
     ]
    }
   ],
   "source": [
    "class Square:\n",
    "    def __init__(self,x):\n",
    "        self.x = x\n",
    "        \n",
    "    def area(self):\n",
    "        print(\"The area of square = \",self.x*self.x)\n",
    "        \n",
    "class Rectangle(Square):\n",
    "    def __init__(self,x,y):\n",
    "        super().__init__(x)\n",
    "        self.y = y\n",
    "        \n",
    "    def area(self):\n",
    "        print(\"Area of rectangle = \",self.x*self.y)\n",
    " \n",
    "a,b = [float(x) for x in input(\"Enter 2 numbrs:\").split(',')]\n",
    "r = Rectangle(a,b)\n",
    "area()"
   ]
  },
  {
   "cell_type": "code",
   "execution_count": 1,
   "id": "f065477e",
   "metadata": {},
   "outputs": [],
   "source": [
    "import numpy as np \n",
    "import matplotlib.pyplot as plt\n",
    "import seaborn as sns"
   ]
  },
  {
   "cell_type": "code",
   "execution_count": 8,
   "id": "0826c561",
   "metadata": {},
   "outputs": [
    {
     "name": "stderr",
     "output_type": "stream",
     "text": [
      "C:\\Users\\reliance\\anaconda3\\lib\\site-packages\\seaborn\\distributions.py:2619: FutureWarning: `distplot` is a deprecated function and will be removed in a future version. Please adapt your code to use either `displot` (a figure-level function with similar flexibility) or `histplot` (an axes-level function for histograms).\n",
      "  warnings.warn(msg, FutureWarning)\n"
     ]
    },
    {
     "data": {
      "text/plain": [
       "<AxesSubplot:ylabel='Density'>"
      ]
     },
     "execution_count": 8,
     "metadata": {},
     "output_type": "execute_result"
    },
    {
     "data": {
      "image/png": "[encoded data removed]",
      "text/plain": [
       "<Figure size 432x288 with 1 Axes>"
      ]
     },
     "metadata": {
      "needs_background": "light"
     },
     "output_type": "display_data"
    }
   ],
   "source": [
    "sudarshan is going to make a revolutionary "
   ]
  },
  {
   "cell_type": "code",
   "execution_count": null,
   "id": "baf65cbe",
   "metadata": {},
   "outputs": [],
   "source": []
  }
 ],
 "metadata": {
  "kernelspec": {
   "display_name": "Python 3 (ipykernel)",
   "language": "python",
   "name": "python3"
  },
  "language_info": {
   "codemirror_mode": {
    "name": "ipython",
    "version": 3
   },
   "file_extension": ".py",
   "mimetype": "text/x-python",
   "name": "python",
   "nbconvert_exporter": "python",
   "pygments_lexer": "ipython3",
   "version": "3.9.12"
  }
 },
 "nbformat": 4,
 "nbformat_minor": 5
}
