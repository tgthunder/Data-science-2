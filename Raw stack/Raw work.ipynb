{
 "cells": [
  {
   "cell_type": "code",
   "execution_count": 1,
   "id": "9d2183b5",
   "metadata": {},
   "outputs": [],
   "source": [
    "import numpy as np\n",
    "import pandas as pd"
   ]
  },
  {
   "cell_type": "code",
   "execution_count": 2,
   "id": "d32c7a2b",
   "metadata": {},
   "outputs": [],
   "source": [
    "import seaborn as sns\n",
    "import matplotlib.pyplot as plt"
   ]
  },
  {
   "cell_type": "code",
   "execution_count": 3,
   "id": "c4795cd2",
   "metadata": {},
   "outputs": [],
   "source": [
    "%matplotlib inline"
   ]
  },
  {
   "cell_type": "code",
   "execution_count": 28,
   "id": "3f4442e5",
   "metadata": {},
   "outputs": [],
   "source": [
    "raw = pd.read_csv('final_df.csv')"
   ]
  },
  {
   "cell_type": "code",
   "execution_count": 5,
   "id": "acab0d51",
   "metadata": {},
   "outputs": [
    {
     "data": {
      "text/html": [
       "<div>\n",
       "<style scoped>\n",
       "    .dataframe tbody tr th:only-of-type {\n",
       "        vertical-align: middle;\n",
       "    }\n",
       "\n",
       "    .dataframe tbody tr th {\n",
       "        vertical-align: top;\n",
       "    }\n",
       "\n",
       "    .dataframe thead th {\n",
       "        text-align: right;\n",
       "    }\n",
       "</style>\n",
       "<table border=\"1\" class=\"dataframe\">\n",
       "  <thead>\n",
       "    <tr style=\"text-align: right;\">\n",
       "      <th></th>\n",
       "      <th>company</th>\n",
       "      <th>Model name</th>\n",
       "      <th>fuel</th>\n",
       "      <th>seats</th>\n",
       "      <th>new engine</th>\n",
       "      <th>Insurance Plan</th>\n",
       "      <th>feature</th>\n",
       "      <th>Insurance_id</th>\n",
       "      <th>Insurance</th>\n",
       "    </tr>\n",
       "  </thead>\n",
       "  <tbody>\n",
       "    <tr>\n",
       "      <th>0</th>\n",
       "      <td>Maruti</td>\n",
       "      <td>Maruti Swift Dzire VDI</td>\n",
       "      <td>Diesel</td>\n",
       "      <td>5.0</td>\n",
       "      <td>1248</td>\n",
       "      <td>Comapany Name:ICICI Lombord,Policy Plan:2000000</td>\n",
       "      <td>maruti maruti swift dzire vdi 5.0 1248</td>\n",
       "      <td>11</td>\n",
       "      <td>Comapany Name:ICICI Lombord,Policy Plan:2000000</td>\n",
       "    </tr>\n",
       "    <tr>\n",
       "      <th>1</th>\n",
       "      <td>Honda</td>\n",
       "      <td>Honda City 2017-2020 EXi</td>\n",
       "      <td>Petrol</td>\n",
       "      <td>5.0</td>\n",
       "      <td>1497</td>\n",
       "      <td>Comapany Name:ICICI Lombord,Policy Plan:2000000</td>\n",
       "      <td>honda honda city 2017-2020 exi 5.0 1497</td>\n",
       "      <td>11</td>\n",
       "      <td>Comapany Name:ICICI Lombord,Policy Plan:2000000</td>\n",
       "    </tr>\n",
       "    <tr>\n",
       "      <th>2</th>\n",
       "      <td>Hyundai</td>\n",
       "      <td>Hyundai i20 Sportz Diesel</td>\n",
       "      <td>Diesel</td>\n",
       "      <td>5.0</td>\n",
       "      <td>1396</td>\n",
       "      <td>Comapany Name:ICICI Lombord,Policy Plan:2000000</td>\n",
       "      <td>hyundai hyundai i20 sportz diesel 5.0 1396</td>\n",
       "      <td>11</td>\n",
       "      <td>Comapany Name:ICICI Lombord,Policy Plan:2000000</td>\n",
       "    </tr>\n",
       "    <tr>\n",
       "      <th>3</th>\n",
       "      <td>Maruti</td>\n",
       "      <td>Maruti Swift VXI BSIII</td>\n",
       "      <td>Petrol</td>\n",
       "      <td>5.0</td>\n",
       "      <td>1298</td>\n",
       "      <td>Comapany Name:ICICI Lombord,Policy Plan:2000000</td>\n",
       "      <td>maruti maruti swift vxi bsiii 5.0 1298</td>\n",
       "      <td>11</td>\n",
       "      <td>Comapany Name:ICICI Lombord,Policy Plan:2000000</td>\n",
       "    </tr>\n",
       "    <tr>\n",
       "      <th>4</th>\n",
       "      <td>Hyundai</td>\n",
       "      <td>Hyundai Xcent 1.2 VTVT E Plus</td>\n",
       "      <td>Petrol</td>\n",
       "      <td>5.0</td>\n",
       "      <td>1197</td>\n",
       "      <td>Comapany Name:ICICI Lombord,Policy Plan:2000000</td>\n",
       "      <td>hyundai hyundai xcent 1.2 vtvt e plus 5.0 1197</td>\n",
       "      <td>11</td>\n",
       "      <td>Comapany Name:ICICI Lombord,Policy Plan:2000000</td>\n",
       "    </tr>\n",
       "  </tbody>\n",
       "</table>\n",
       "</div>"
      ],
      "text/plain": [
       "   company                     Model name    fuel  seats  new engine  \\\n",
       "0   Maruti         Maruti Swift Dzire VDI  Diesel    5.0        1248   \n",
       "1    Honda       Honda City 2017-2020 EXi  Petrol    5.0        1497   \n",
       "2  Hyundai      Hyundai i20 Sportz Diesel  Diesel    5.0        1396   \n",
       "3   Maruti         Maruti Swift VXI BSIII  Petrol    5.0        1298   \n",
       "4  Hyundai  Hyundai Xcent 1.2 VTVT E Plus  Petrol    5.0        1197   \n",
       "\n",
       "                                    Insurance Plan  \\\n",
       "0  Comapany Name:ICICI Lombord,Policy Plan:2000000   \n",
       "1  Comapany Name:ICICI Lombord,Policy Plan:2000000   \n",
       "2  Comapany Name:ICICI Lombord,Policy Plan:2000000   \n",
       "3  Comapany Name:ICICI Lombord,Policy Plan:2000000   \n",
       "4  Comapany Name:ICICI Lombord,Policy Plan:2000000   \n",
       "\n",
       "                                          feature  Insurance_id  \\\n",
       "0          maruti maruti swift dzire vdi 5.0 1248            11   \n",
       "1         honda honda city 2017-2020 exi 5.0 1497            11   \n",
       "2      hyundai hyundai i20 sportz diesel 5.0 1396            11   \n",
       "3          maruti maruti swift vxi bsiii 5.0 1298            11   \n",
       "4  hyundai hyundai xcent 1.2 vtvt e plus 5.0 1197            11   \n",
       "\n",
       "                                         Insurance  \n",
       "0  Comapany Name:ICICI Lombord,Policy Plan:2000000  \n",
       "1  Comapany Name:ICICI Lombord,Policy Plan:2000000  \n",
       "2  Comapany Name:ICICI Lombord,Policy Plan:2000000  \n",
       "3  Comapany Name:ICICI Lombord,Policy Plan:2000000  \n",
       "4  Comapany Name:ICICI Lombord,Policy Plan:2000000  "
      ]
     },
     "execution_count": 5,
     "metadata": {},
     "output_type": "execute_result"
    }
   ],
   "source": [
    "raw.head()"
   ]
  },
  {
   "cell_type": "code",
   "execution_count": 6,
   "id": "d9554bb4",
   "metadata": {},
   "outputs": [
    {
     "data": {
      "text/plain": [
       "<AxesSubplot:>"
      ]
     },
     "execution_count": 6,
     "metadata": {},
     "output_type": "execute_result"
    },
    {
     "data": {
      "image/png": "[encoded data removed]",
      "text/plain": [
       "<Figure size 432x288 with 1 Axes>"
      ]
     },
     "metadata": {
      "needs_background": "light"
     },
     "output_type": "display_data"
    }
   ],
   "source": [
    "sns.heatmap(raw.isnull(),yticklabels=False,cbar=False,cmap='viridis')"
   ]
  },
  {
   "cell_type": "code",
   "execution_count": 7,
   "id": "0551363b",
   "metadata": {},
   "outputs": [
    {
     "name": "stdout",
     "output_type": "stream",
     "text": [
      "<class 'pandas.core.frame.DataFrame'>\n",
      "RangeIndex: 7492 entries, 0 to 7491\n",
      "Data columns (total 9 columns):\n",
      " #   Column          Non-Null Count  Dtype  \n",
      "---  ------          --------------  -----  \n",
      " 0   company         7492 non-null   object \n",
      " 1   Model name      7492 non-null   object \n",
      " 2   fuel            7492 non-null   object \n",
      " 3   seats           7279 non-null   float64\n",
      " 4   new engine      7492 non-null   int64  \n",
      " 5   Insurance Plan  7492 non-null   object \n",
      " 6   feature         7492 non-null   object \n",
      " 7   Insurance_id    7492 non-null   int64  \n",
      " 8   Insurance       7492 non-null   object \n",
      "dtypes: float64(1), int64(2), object(6)\n",
      "memory usage: 526.9+ KB\n"
     ]
    }
   ],
   "source": [
    "raw.info()"
   ]
  },
  {
   "cell_type": "code",
   "execution_count": 8,
   "id": "81b6f0a0",
   "metadata": {},
   "outputs": [
    {
     "name": "stdout",
     "output_type": "stream",
     "text": [
      "<class 'pandas.core.frame.DataFrame'>\n",
      "RangeIndex: 7492 entries, 0 to 7491\n",
      "Data columns (total 9 columns):\n",
      " #   Column          Non-Null Count  Dtype  \n",
      "---  ------          --------------  -----  \n",
      " 0   company         7492 non-null   object \n",
      " 1   Model name      7492 non-null   object \n",
      " 2   fuel            7492 non-null   object \n",
      " 3   seats           7279 non-null   float64\n",
      " 4   new engine      7492 non-null   int64  \n",
      " 5   Insurance Plan  7492 non-null   object \n",
      " 6   feature         7492 non-null   object \n",
      " 7   Insurance_id    7492 non-null   int64  \n",
      " 8   Insurance       7492 non-null   object \n",
      "dtypes: float64(1), int64(2), object(6)\n",
      "memory usage: 526.9+ KB\n"
     ]
    }
   ],
   "source": [
    "raw.info()"
   ]
  },
  {
   "cell_type": "code",
   "execution_count": 9,
   "id": "7d9c3794",
   "metadata": {},
   "outputs": [],
   "source": [
    "raw.dropna(inplace=True)"
   ]
  },
  {
   "cell_type": "code",
   "execution_count": 10,
   "id": "b778d030",
   "metadata": {},
   "outputs": [
    {
     "data": {
      "text/html": [
       "<div>\n",
       "<style scoped>\n",
       "    .dataframe tbody tr th:only-of-type {\n",
       "        vertical-align: middle;\n",
       "    }\n",
       "\n",
       "    .dataframe tbody tr th {\n",
       "        vertical-align: top;\n",
       "    }\n",
       "\n",
       "    .dataframe thead th {\n",
       "        text-align: right;\n",
       "    }\n",
       "</style>\n",
       "<table border=\"1\" class=\"dataframe\">\n",
       "  <thead>\n",
       "    <tr style=\"text-align: right;\">\n",
       "      <th></th>\n",
       "      <th>company</th>\n",
       "      <th>Model name</th>\n",
       "      <th>fuel</th>\n",
       "      <th>seats</th>\n",
       "      <th>new engine</th>\n",
       "      <th>Insurance Plan</th>\n",
       "      <th>feature</th>\n",
       "      <th>Insurance_id</th>\n",
       "      <th>Insurance</th>\n",
       "    </tr>\n",
       "  </thead>\n",
       "  <tbody>\n",
       "    <tr>\n",
       "      <th>0</th>\n",
       "      <td>Maruti</td>\n",
       "      <td>Maruti Swift Dzire VDI</td>\n",
       "      <td>Diesel</td>\n",
       "      <td>5.0</td>\n",
       "      <td>1248</td>\n",
       "      <td>Comapany Name:ICICI Lombord,Policy Plan:2000000</td>\n",
       "      <td>maruti maruti swift dzire vdi 5.0 1248</td>\n",
       "      <td>11</td>\n",
       "      <td>Comapany Name:ICICI Lombord,Policy Plan:2000000</td>\n",
       "    </tr>\n",
       "    <tr>\n",
       "      <th>1</th>\n",
       "      <td>Honda</td>\n",
       "      <td>Honda City 2017-2020 EXi</td>\n",
       "      <td>Petrol</td>\n",
       "      <td>5.0</td>\n",
       "      <td>1497</td>\n",
       "      <td>Comapany Name:ICICI Lombord,Policy Plan:2000000</td>\n",
       "      <td>honda honda city 2017-2020 exi 5.0 1497</td>\n",
       "      <td>11</td>\n",
       "      <td>Comapany Name:ICICI Lombord,Policy Plan:2000000</td>\n",
       "    </tr>\n",
       "    <tr>\n",
       "      <th>2</th>\n",
       "      <td>Hyundai</td>\n",
       "      <td>Hyundai i20 Sportz Diesel</td>\n",
       "      <td>Diesel</td>\n",
       "      <td>5.0</td>\n",
       "      <td>1396</td>\n",
       "      <td>Comapany Name:ICICI Lombord,Policy Plan:2000000</td>\n",
       "      <td>hyundai hyundai i20 sportz diesel 5.0 1396</td>\n",
       "      <td>11</td>\n",
       "      <td>Comapany Name:ICICI Lombord,Policy Plan:2000000</td>\n",
       "    </tr>\n",
       "    <tr>\n",
       "      <th>3</th>\n",
       "      <td>Maruti</td>\n",
       "      <td>Maruti Swift VXI BSIII</td>\n",
       "      <td>Petrol</td>\n",
       "      <td>5.0</td>\n",
       "      <td>1298</td>\n",
       "      <td>Comapany Name:ICICI Lombord,Policy Plan:2000000</td>\n",
       "      <td>maruti maruti swift vxi bsiii 5.0 1298</td>\n",
       "      <td>11</td>\n",
       "      <td>Comapany Name:ICICI Lombord,Policy Plan:2000000</td>\n",
       "    </tr>\n",
       "    <tr>\n",
       "      <th>4</th>\n",
       "      <td>Hyundai</td>\n",
       "      <td>Hyundai Xcent 1.2 VTVT E Plus</td>\n",
       "      <td>Petrol</td>\n",
       "      <td>5.0</td>\n",
       "      <td>1197</td>\n",
       "      <td>Comapany Name:ICICI Lombord,Policy Plan:2000000</td>\n",
       "      <td>hyundai hyundai xcent 1.2 vtvt e plus 5.0 1197</td>\n",
       "      <td>11</td>\n",
       "      <td>Comapany Name:ICICI Lombord,Policy Plan:2000000</td>\n",
       "    </tr>\n",
       "  </tbody>\n",
       "</table>\n",
       "</div>"
      ],
      "text/plain": [
       "   company                     Model name    fuel  seats  new engine  \\\n",
       "0   Maruti         Maruti Swift Dzire VDI  Diesel    5.0        1248   \n",
       "1    Honda       Honda City 2017-2020 EXi  Petrol    5.0        1497   \n",
       "2  Hyundai      Hyundai i20 Sportz Diesel  Diesel    5.0        1396   \n",
       "3   Maruti         Maruti Swift VXI BSIII  Petrol    5.0        1298   \n",
       "4  Hyundai  Hyundai Xcent 1.2 VTVT E Plus  Petrol    5.0        1197   \n",
       "\n",
       "                                    Insurance Plan  \\\n",
       "0  Comapany Name:ICICI Lombord,Policy Plan:2000000   \n",
       "1  Comapany Name:ICICI Lombord,Policy Plan:2000000   \n",
       "2  Comapany Name:ICICI Lombord,Policy Plan:2000000   \n",
       "3  Comapany Name:ICICI Lombord,Policy Plan:2000000   \n",
       "4  Comapany Name:ICICI Lombord,Policy Plan:2000000   \n",
       "\n",
       "                                          feature  Insurance_id  \\\n",
       "0          maruti maruti swift dzire vdi 5.0 1248            11   \n",
       "1         honda honda city 2017-2020 exi 5.0 1497            11   \n",
       "2      hyundai hyundai i20 sportz diesel 5.0 1396            11   \n",
       "3          maruti maruti swift vxi bsiii 5.0 1298            11   \n",
       "4  hyundai hyundai xcent 1.2 vtvt e plus 5.0 1197            11   \n",
       "\n",
       "                                         Insurance  \n",
       "0  Comapany Name:ICICI Lombord,Policy Plan:2000000  \n",
       "1  Comapany Name:ICICI Lombord,Policy Plan:2000000  \n",
       "2  Comapany Name:ICICI Lombord,Policy Plan:2000000  \n",
       "3  Comapany Name:ICICI Lombord,Policy Plan:2000000  \n",
       "4  Comapany Name:ICICI Lombord,Policy Plan:2000000  "
      ]
     },
     "execution_count": 10,
     "metadata": {},
     "output_type": "execute_result"
    }
   ],
   "source": [
    "raw.head()"
   ]
  },
  {
   "cell_type": "code",
   "execution_count": 11,
   "id": "a5a98b15",
   "metadata": {},
   "outputs": [],
   "source": [
    "raw['company'] = raw['company'].apply(lambda x:x.lower())\n",
    "raw['Model name'] = raw['Model name'].apply(lambda x:x.lower())\n",
    "raw['fuel'] = raw['fuel'].apply(lambda x:x.lower())"
   ]
  },
  {
   "cell_type": "code",
   "execution_count": 12,
   "id": "118bd28e",
   "metadata": {},
   "outputs": [],
   "source": [
    "from sklearn.feature_extraction.text import CountVectorizer"
   ]
  },
  {
   "cell_type": "code",
   "execution_count": 13,
   "id": "a30b4ec2",
   "metadata": {},
   "outputs": [],
   "source": [
    "cv = CountVectorizer(max_features=7000,stop_words='english')"
   ]
  },
  {
   "cell_type": "code",
   "execution_count": 14,
   "id": "b497fad3",
   "metadata": {},
   "outputs": [],
   "source": [
    "vectors=cv.fit_transform(raw['feature']).toarray()"
   ]
  },
  {
   "cell_type": "code",
   "execution_count": 15,
   "id": "1ce14af1",
   "metadata": {},
   "outputs": [
    {
     "data": {
      "text/plain": [
       "(7279, 740)"
      ]
     },
     "execution_count": 15,
     "metadata": {},
     "output_type": "execute_result"
    }
   ],
   "source": [
    "vectors.shape"
   ]
  },
  {
   "cell_type": "code",
   "execution_count": 16,
   "id": "84ee1521",
   "metadata": {},
   "outputs": [],
   "source": [
    "from sklearn.metrics.pairwise import cosine_similarity\n"
   ]
  },
  {
   "cell_type": "code",
   "execution_count": 17,
   "id": "3f3edd0e",
   "metadata": {},
   "outputs": [],
   "source": [
    "similarity=cosine_similarity(vectors)"
   ]
  },
  {
   "cell_type": "code",
   "execution_count": 25,
   "id": "6ef38dd6",
   "metadata": {},
   "outputs": [],
   "source": [
    "def recommand():\n",
    "    print(raw['company'].unique())\n",
    "    obj1=input(\"Enter company:\").lower()\n",
    "    print(raw[raw['company']==obj1]['Model name'].unique())\n",
    "    obj2=input(\"Enter Model Name:\").lower()\n",
    "    print(raw[raw['Model name']==obj2]['fuel'].unique())\n",
    "    obj3=input(\"Enter Fuel Type:\").lower()\n",
    "    print(raw[raw['Model name']==obj2]['new engine'].unique())\n",
    "    obj4=int(input(\"Enter engine:\"))\n",
    "    car_index=raw[(raw['company']==obj1) & (raw['Model name']==obj2)&(raw['fuel']==obj3)&(raw['new engine']==obj4)].index[0]\n",
    "    k=similarity[car_index]\n",
    "    lst=sorted(list(enumerate(k)),reverse=True,key=lambda x:x[1])[1:]\n",
    "    lst1 = list(enumerate(raw['Insurance'].values.tolist()))\n",
    "    lst2= []\n",
    "    for i in lst:\n",
    "        for j in lst1:\n",
    "            if i[0]==j[0]:\n",
    "                if j[1] not in lst2:\n",
    "                    lst2.append(j[1])\n",
    "  \n",
    "    \n",
    "    print(\"Your Insurance Plans\")\n",
    "    for i in lst2[0:5]:\n",
    "        print(i)\n",
    "    print(\"If you want more options I can Help You.Please Enter Y for More plans and N  for stop.\")\n",
    "    a = input(\"Enter Your choice:\").lower()\n",
    "    if a=='y':\n",
    "        for i in lst2[5:10]:\n",
    "            print(i)\n",
    "    else:\n",
    "        print(\"Thank you\")\n"
   ]
  },
  {
   "cell_type": "code",
   "execution_count": 27,
   "id": "56eaf316",
   "metadata": {},
   "outputs": [
    {
     "name": "stdout",
     "output_type": "stream",
     "text": [
      "['maruti' 'honda' 'hyundai' 'toyota' 'ford' 'renault' 'mahindra' 'tata'\n",
      " 'mercedes-benz' 'audi' 'volkswagen' 'bmw' 'jaguar' 'land' 'volvo']\n",
      "Enter company:volkswagen\n",
      "['volkswagen ameo 1.5 tdi highline 16 alloy'\n",
      " 'volkswagen ameo 1.5 tdi comfortline' 'volkswagen vento diesel highline'\n",
      " 'volkswagen polo 1.2 mpi comfortline' 'volkswagen vento petrol highline'\n",
      " 'volkswagen passat 1.8 tsi mt' 'volkswagen ameo 1.0 mpi trendline'\n",
      " 'volkswagen ameo 1.2 mpi comfortline plus' 'volkswagen gti 1.8 tsi'\n",
      " 'volkswagen polo 1.5 tdi highline' 'volkswagen vento diesel trendline'\n",
      " 'volkswagen polo 1.5 tdi comfortline'\n",
      " 'volkswagen polo diesel highline 1.2l'\n",
      " 'volkswagen polo diesel trendline 1.2l'\n",
      " 'volkswagen vento diesel comfortline'\n",
      " 'volkswagen polo diesel comfortline 1.2l' 'volkswagen vento 1.6 highline'\n",
      " 'volkswagen jetta 2.0l tdi highline at'\n",
      " 'volkswagen vento 1.5 tdi highline at'\n",
      " 'volkswagen polo 2015-2019 1.0 mpi highline plus'\n",
      " 'volkswagen polo petrol comfortline 1.2l'\n",
      " 'volkswagen jetta 1.6 trendline' 'volkswagen ameo 1.5 tdi comfortline at'\n",
      " 'volkswagen polo gt tdi' 'volkswagen polo 2015-2019 1.0 mpi comfortline'\n",
      " 'volkswagen vento ipl ii diesel trendline'\n",
      " 'volkswagen polo 2015-2019 1.2 mpi highline plus'\n",
      " 'volkswagen vento 1.5 tdi highline'\n",
      " 'volkswagen polo 2015-2019 1.5 tdi highline plus'\n",
      " 'volkswagen polo 2015-2019 1.0 mpi trendline'\n",
      " 'volkswagen vento 1.5 tdi comfortline'\n",
      " 'volkswagen jetta 2.0 tdi comfortline'\n",
      " 'volkswagen jetta 2.0l tdi highline' 'volkswagen polo 1.2 mpi highline'\n",
      " 'volkswagen ameo 1.5 tdi trendline' 'volkswagen polo gt tsi'\n",
      " 'volkswagen vento diesel breeze' 'volkswagen ameo 1.5 tdi highline plus'\n",
      " 'volkswagen polo petrol highline 1.2l'\n",
      " 'volkswagen vento 1.5 tdi highline bsiv'\n",
      " 'volkswagen passat 2.0 tdi at highline'\n",
      " 'volkswagen polo 1.0 tsi highline plus'\n",
      " 'volkswagen ameo 1.2 mpi highline plus 16'\n",
      " 'volkswagen polo 1.0 mpi trendline bsiv'\n",
      " 'volkswagen ameo 1.2 mpi comfortline' 'volkswagen crosspolo 1.5 tdi'\n",
      " 'volkswagen vento konekt diesel highline'\n",
      " 'volkswagen passat highline dsg s' 'volkswagen polo gt tsi bsiv'\n",
      " 'volkswagen ameo 1.0 mpi comfortline' 'volkswagen ameo 1.2 mpi highline'\n",
      " 'volkswagen vento petrol trendline'\n",
      " 'volkswagen polo select 1.5 tdi highline'\n",
      " 'volkswagen ameo 1.5 tdi highline plus 16 at'\n",
      " 'volkswagen jetta 2.0l tdi comfortline'\n",
      " 'volkswagen vento 1.5 highline plus at 16 alloy'\n",
      " 'volkswagen polo petrol trendline 1.2l'\n",
      " 'volkswagen polo 2015-2019 gt 1.5 tdi'\n",
      " 'volkswagen vento 1.5 tdi highline plus at'\n",
      " 'volkswagen passat highline dsg s (spl. edition)'\n",
      " 'volkswagen vento 1.5 tdi highline plus at bsiv'\n",
      " 'volkswagen vento petrol highline at'\n",
      " 'volkswagen polo select 1.2 mpi highline']\n",
      "Enter Model Name:volkswagen polo 2015-2019 1.0 mpi highline plus\n",
      "['petrol']\n",
      "Enter Fuel Type:petrol\n",
      "['999']\n",
      "Enter engine:'999'\n"
     ]
    },
    {
     "ename": "ValueError",
     "evalue": "invalid literal for int() with base 10: \"'999'\"",
     "output_type": "error",
     "traceback": [
      "\u001b[1;31m---------------------------------------------------------------------------\u001b[0m",
      "\u001b[1;31mValueError\u001b[0m                                Traceback (most recent call last)",
      "Input \u001b[1;32mIn [27]\u001b[0m, in \u001b[0;36m<cell line: 1>\u001b[1;34m()\u001b[0m\n\u001b[1;32m----> 1\u001b[0m \u001b[43mrecommand\u001b[49m\u001b[43m(\u001b[49m\u001b[43m)\u001b[49m\n",
      "Input \u001b[1;32mIn [25]\u001b[0m, in \u001b[0;36mrecommand\u001b[1;34m()\u001b[0m\n\u001b[0;32m      7\u001b[0m obj3\u001b[38;5;241m=\u001b[39m\u001b[38;5;28minput\u001b[39m(\u001b[38;5;124m\"\u001b[39m\u001b[38;5;124mEnter Fuel Type:\u001b[39m\u001b[38;5;124m\"\u001b[39m)\u001b[38;5;241m.\u001b[39mlower()\n\u001b[0;32m      8\u001b[0m \u001b[38;5;28mprint\u001b[39m(raw[raw[\u001b[38;5;124m'\u001b[39m\u001b[38;5;124mModel name\u001b[39m\u001b[38;5;124m'\u001b[39m]\u001b[38;5;241m==\u001b[39mobj2][\u001b[38;5;124m'\u001b[39m\u001b[38;5;124mnew engine\u001b[39m\u001b[38;5;124m'\u001b[39m]\u001b[38;5;241m.\u001b[39munique())\n\u001b[1;32m----> 9\u001b[0m obj4\u001b[38;5;241m=\u001b[39m\u001b[38;5;28;43mint\u001b[39;49m\u001b[43m(\u001b[49m\u001b[38;5;28;43minput\u001b[39;49m\u001b[43m(\u001b[49m\u001b[38;5;124;43m\"\u001b[39;49m\u001b[38;5;124;43mEnter engine:\u001b[39;49m\u001b[38;5;124;43m\"\u001b[39;49m\u001b[43m)\u001b[49m\u001b[43m)\u001b[49m\n\u001b[0;32m     10\u001b[0m car_index\u001b[38;5;241m=\u001b[39mraw[(raw[\u001b[38;5;124m'\u001b[39m\u001b[38;5;124mcompany\u001b[39m\u001b[38;5;124m'\u001b[39m]\u001b[38;5;241m==\u001b[39mobj1) \u001b[38;5;241m&\u001b[39m (raw[\u001b[38;5;124m'\u001b[39m\u001b[38;5;124mModel name\u001b[39m\u001b[38;5;124m'\u001b[39m]\u001b[38;5;241m==\u001b[39mobj2)\u001b[38;5;241m&\u001b[39m(raw[\u001b[38;5;124m'\u001b[39m\u001b[38;5;124mfuel\u001b[39m\u001b[38;5;124m'\u001b[39m]\u001b[38;5;241m==\u001b[39mobj3)\u001b[38;5;241m&\u001b[39m(raw[\u001b[38;5;124m'\u001b[39m\u001b[38;5;124mnew engine\u001b[39m\u001b[38;5;124m'\u001b[39m]\u001b[38;5;241m==\u001b[39mobj4)]\u001b[38;5;241m.\u001b[39mindex[\u001b[38;5;241m0\u001b[39m]\n\u001b[0;32m     11\u001b[0m k\u001b[38;5;241m=\u001b[39msimilarity[car_index]\n",
      "\u001b[1;31mValueError\u001b[0m: invalid literal for int() with base 10: \"'999'\""
     ]
    }
   ],
   "source": [
    "recommand()"
   ]
  },
  {
   "cell_type": "code",
   "execution_count": 23,
   "id": "7a64b416",
   "metadata": {},
   "outputs": [],
   "source": [
    "raw['new engine']=raw['new engine'].astype(str)"
   ]
  },
  {
   "cell_type": "code",
   "execution_count": 24,
   "id": "724e5547",
   "metadata": {},
   "outputs": [
    {
     "name": "stdout",
     "output_type": "stream",
     "text": [
      "<class 'pandas.core.frame.DataFrame'>\n",
      "Int64Index: 7279 entries, 0 to 7491\n",
      "Data columns (total 9 columns):\n",
      " #   Column          Non-Null Count  Dtype  \n",
      "---  ------          --------------  -----  \n",
      " 0   company         7279 non-null   object \n",
      " 1   Model name      7279 non-null   object \n",
      " 2   fuel            7279 non-null   object \n",
      " 3   seats           7279 non-null   float64\n",
      " 4   new engine      7279 non-null   object \n",
      " 5   Insurance Plan  7279 non-null   object \n",
      " 6   feature         7279 non-null   object \n",
      " 7   Insurance_id    7279 non-null   int64  \n",
      " 8   Insurance       7279 non-null   object \n",
      "dtypes: float64(1), int64(1), object(7)\n",
      "memory usage: 568.7+ KB\n"
     ]
    }
   ],
   "source": [
    "raw.info()"
   ]
  },
  {
   "cell_type": "code",
   "execution_count": null,
   "id": "efbbb0f2",
   "metadata": {},
   "outputs": [],
   "source": []
  }
 ],
 "metadata": {
  "kernelspec": {
   "display_name": "Python 3 (ipykernel)",
   "language": "python",
   "name": "python3"
  },
  "language_info": {
   "codemirror_mode": {
    "name": "ipython",
    "version": 3
   },
   "file_extension": ".py",
   "mimetype": "text/x-python",
   "name": "python",
   "nbconvert_exporter": "python",
   "pygments_lexer": "ipython3",
   "version": "3.9.12"
  }
 },
 "nbformat": 4,
 "nbformat_minor": 5
}
