{
 "cells": [
  {
   "cell_type": "code",
   "execution_count": 1,
   "id": "6844d135",
   "metadata": {},
   "outputs": [
    {
     "name": "stdout",
     "output_type": "stream",
     "text": [
      "[2 4 8 6 1]\n"
     ]
    }
   ],
   "source": [
    "# vectors --  > 1d array\n",
    "import numpy as np\n",
    "v = np.array([2,4,8,6,1])\n",
    "print(v)"
   ]
  },
  {
   "cell_type": "code",
   "execution_count": 12,
   "id": "ce9c4fab",
   "metadata": {},
   "outputs": [
    {
     "name": "stdout",
     "output_type": "stream",
     "text": [
      "[[ 1  2]\n",
      " [ 3  6]\n",
      " [ 8  9]\n",
      " [11 54]]\n",
      "-----------------------\n",
      "Printing 0th row [1 2] \n",
      "Shape of metrix : (4, 2)\n"
     ]
    }
   ],
   "source": [
    "# metrix --> 2d tabular representation\n",
    "m = np.array([[1,2],[3,6],[8,9],[11,54]])\n",
    "print(m) # printing a metrix \n",
    "print(\"-----------------------\")\n",
    "print(f\"Printing 0th row {m[0]} \") #printing 0th row\n",
    "print(f\"Shape of metrix : {m.shape}\")"
   ]
  },
  {
   "cell_type": "code",
   "execution_count": 13,
   "id": "11ac823d",
   "metadata": {},
   "outputs": [
    {
     "name": "stdout",
     "output_type": "stream",
     "text": [
      "[[ 1  3  8 11]\n",
      " [ 2  6  9 54]]\n",
      "---------------------\n",
      "Shape of transpose : (2, 4)\n"
     ]
    }
   ],
   "source": [
    "# transpose of metrix\n",
    "m_trans = m.T\n",
    "print(m_trans)\n",
    "print(\"---------------------\")\n",
    "print(f\"Shape of transpose : {m_trans.shape}\")"
   ]
  },
  {
   "cell_type": "code",
   "execution_count": 20,
   "id": "d6438895",
   "metadata": {},
   "outputs": [],
   "source": [
    "# working on datasets\n",
    "import seaborn as sns\n",
    "df = sns.load_dataset(\"iris\")\n",
    "df = df.iloc[0:5,[0,1,4]]"
   ]
  },
  {
   "cell_type": "code",
   "execution_count": 25,
   "id": "00de7834",
   "metadata": {},
   "outputs": [
    {
     "data": {
      "text/html": [
       "<div>\n",
       "<style scoped>\n",
       "    .dataframe tbody tr th:only-of-type {\n",
       "        vertical-align: middle;\n",
       "    }\n",
       "\n",
       "    .dataframe tbody tr th {\n",
       "        vertical-align: top;\n",
       "    }\n",
       "\n",
       "    .dataframe thead th {\n",
       "        text-align: right;\n",
       "    }\n",
       "</style>\n",
       "<table border=\"1\" class=\"dataframe\">\n",
       "  <thead>\n",
       "    <tr style=\"text-align: right;\">\n",
       "      <th></th>\n",
       "      <th>sepal_length</th>\n",
       "      <th>sepal_width</th>\n",
       "      <th>species</th>\n",
       "    </tr>\n",
       "  </thead>\n",
       "  <tbody>\n",
       "    <tr>\n",
       "      <th>0</th>\n",
       "      <td>5.1</td>\n",
       "      <td>3.5</td>\n",
       "      <td>setosa</td>\n",
       "    </tr>\n",
       "    <tr>\n",
       "      <th>1</th>\n",
       "      <td>4.9</td>\n",
       "      <td>3.0</td>\n",
       "      <td>setosa</td>\n",
       "    </tr>\n",
       "    <tr>\n",
       "      <th>2</th>\n",
       "      <td>4.7</td>\n",
       "      <td>3.2</td>\n",
       "      <td>setosa</td>\n",
       "    </tr>\n",
       "    <tr>\n",
       "      <th>3</th>\n",
       "      <td>4.6</td>\n",
       "      <td>3.1</td>\n",
       "      <td>setosa</td>\n",
       "    </tr>\n",
       "    <tr>\n",
       "      <th>4</th>\n",
       "      <td>5.0</td>\n",
       "      <td>3.6</td>\n",
       "      <td>setosa</td>\n",
       "    </tr>\n",
       "  </tbody>\n",
       "</table>\n",
       "</div>"
      ],
      "text/plain": [
       "   sepal_length  sepal_width species\n",
       "0           5.1          3.5  setosa\n",
       "1           4.9          3.0  setosa\n",
       "2           4.7          3.2  setosa\n",
       "3           4.6          3.1  setosa\n",
       "4           5.0          3.6  setosa"
      ]
     },
     "execution_count": 25,
     "metadata": {},
     "output_type": "execute_result"
    }
   ],
   "source": [
    "df"
   ]
  },
  {
   "cell_type": "code",
   "execution_count": 27,
   "id": "eb68c879",
   "metadata": {},
   "outputs": [
    {
     "data": {
      "text/plain": [
       "<AxesSubplot:xlabel='sepal_length', ylabel='sepal_width'>"
      ]
     },
     "execution_count": 27,
     "metadata": {},
     "output_type": "execute_result"
    },
    {
     "data": {
      "image/png": "[encoded data removed]",
      "text/plain": [
       "<Figure size 640x480 with 1 Axes>"
      ]
     },
     "metadata": {},
     "output_type": "display_data"
    }
   ],
   "source": [
    "sns.scatterplot(x='sepal_length',y='sepal_width',data=df)"
   ]
  },
  {
   "cell_type": "code",
   "execution_count": 31,
   "id": "a7a384c4",
   "metadata": {},
   "outputs": [
    {
     "data": {
      "text/plain": [
       "6.185466837676846"
      ]
     },
     "execution_count": 31,
     "metadata": {},
     "output_type": "execute_result"
    }
   ],
   "source": [
    "# finding the distance of a point from the origin\n",
    "# distance of 1st point[means 0th line]\n",
    "distance = np.sqrt((df.iloc[0,0])**2 + (df.iloc[0,1])**2)\n",
    "distance"
   ]
  },
  {
   "cell_type": "code",
   "execution_count": 32,
   "id": "8d1d199c",
   "metadata": {},
   "outputs": [
    {
     "data": {
      "text/plain": [
       "0.2828427124746193"
      ]
     },
     "execution_count": 32,
     "metadata": {},
     "output_type": "execute_result"
    }
   ],
   "source": [
    "#distance between two points\n",
    "dis = np.sqrt((df.iloc[2,0]- df.iloc[1,0])**2 + (df.iloc[1,1] - df.iloc[2,1])**2 )\n",
    "dis"
   ]
  },
  {
   "cell_type": "code",
   "execution_count": null,
   "id": "13149b2d",
   "metadata": {},
   "outputs": [],
   "source": []
  }
 ],
 "metadata": {
  "kernelspec": {
   "display_name": "Python 3 (ipykernel)",
   "language": "python",
   "name": "python3"
  },
  "language_info": {
   "codemirror_mode": {
    "name": "ipython",
    "version": 3
   },
   "file_extension": ".py",
   "mimetype": "text/x-python",
   "name": "python",
   "nbconvert_exporter": "python",
   "pygments_lexer": "ipython3",
   "version": "3.9.13"
  }
 },
 "nbformat": 4,
 "nbformat_minor": 5
}
